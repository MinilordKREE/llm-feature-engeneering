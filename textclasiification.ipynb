{
 "cells": [
  {
   "cell_type": "code",
   "execution_count": 2,
   "metadata": {},
   "outputs": [],
   "source": [
    "import pandas as pd\n",
    "import numpy as np"
   ]
  },
  {
   "cell_type": "code",
   "execution_count": 3,
   "metadata": {},
   "outputs": [],
   "source": [
    "df = pd.read_csv(r'/data/chenxi/3/training_data.csv')\n",
    "data_df = pd.read_csv('/data/chenxi/3/3/sum.csv')\n",
    "data_df['Outcome'] = df['Outcome']"
   ]
  },
  {
   "cell_type": "code",
   "execution_count": 5,
   "metadata": {},
   "outputs": [
    {
     "name": "stdout",
     "output_type": "stream",
     "text": [
      "                                                 sum   Outcome\n",
      "0  Based on the analysis of the hypothetical pati...  Abnormal\n",
      "1  In summary, the common patterns, findings, or ...  Abnormal\n",
      "2  In summary, the common patterns, findings, or ...  Abnormal\n",
      "3  In summary, the common patterns, findings, or ...  Abnormal\n",
      "4  In summary, the common patterns, findings, or ...  Abnormal\n"
     ]
    }
   ],
   "source": [
    "print(data_df.head(5))"
   ]
  },
  {
   "cell_type": "code",
   "execution_count": 4,
   "metadata": {},
   "outputs": [
    {
     "name": "stdout",
     "output_type": "stream",
     "text": [
      "Num examples train-val-test\n",
      "753 94 95\n"
     ]
    }
   ],
   "source": [
    "train_df, val_df, test_df = np.split(data_df.sample(frac=1), [int(.8*len(data_df)), int(.9 * len(data_df))])\n",
    "print('Num examples train-val-test')\n",
    "print(len(train_df), len(val_df), len(test_df))\n",
    "train_df.to_csv('train.csv')\n",
    "val_df.to_csv('val.csv')\n",
    "test_df.to_csv('test.csv')"
   ]
  }
 ],
 "metadata": {
  "kernelspec": {
   "display_name": "myenv",
   "language": "python",
   "name": "python3"
  },
  "language_info": {
   "codemirror_mode": {
    "name": "ipython",
    "version": 3
   },
   "file_extension": ".py",
   "mimetype": "text/x-python",
   "name": "python",
   "nbconvert_exporter": "python",
   "pygments_lexer": "ipython3",
   "version": "3.10.12"
  },
  "orig_nbformat": 4
 },
 "nbformat": 4,
 "nbformat_minor": 2
}
