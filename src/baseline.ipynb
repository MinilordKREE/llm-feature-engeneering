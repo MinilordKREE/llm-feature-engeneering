{
 "cells": [
  {
   "cell_type": "code",
   "execution_count": 1,
   "metadata": {},
   "outputs": [
    {
     "name": "stderr",
     "output_type": "stream",
     "text": [
      "/data/chenxi/anaconda3/envs/myenv/lib/python3.10/site-packages/requests/__init__.py:102: RequestsDependencyWarning: urllib3 (1.26.16) or chardet (5.2.0)/charset_normalizer (2.0.12) doesn't match a supported version!\n",
      "  warnings.warn(\"urllib3 ({}) or chardet ({})/charset_normalizer ({}) doesn't match a supported \"\n",
      "/data/chenxi/anaconda3/envs/myenv/lib/python3.10/site-packages/tqdm/auto.py:22: TqdmWarning: IProgress not found. Please update jupyter and ipywidgets. See https://ipywidgets.readthedocs.io/en/stable/user_install.html\n",
      "  from .autonotebook import tqdm as notebook_tqdm\n"
     ]
    },
    {
     "name": "stdout",
     "output_type": "stream",
     "text": [
      "\n",
      "===================================BUG REPORT===================================\n",
      "Welcome to bitsandbytes. For bug reports, please run\n",
      "\n",
      "python -m bitsandbytes\n",
      "\n",
      " and submit this information together with your error trace to: https://github.com/TimDettmers/bitsandbytes/issues\n",
      "================================================================================\n",
      "CUDA_SETUP: WARNING! libcudart.so not found in any environmental path. Searching in backup paths...\n",
      "CUDA SETUP: CUDA runtime path found: /usr/local/cuda/lib64/libcudart.so\n",
      "CUDA SETUP: Highest compute capability among GPUs detected: 8.6\n",
      "CUDA SETUP: Detected CUDA version 117\n",
      "CUDA SETUP: Loading binary /data/chenxi/anaconda3/envs/myenv/lib/python3.10/site-packages/bitsandbytes/libbitsandbytes_cuda117.so...\n"
     ]
    },
    {
     "name": "stderr",
     "output_type": "stream",
     "text": [
      "/data/chenxi/anaconda3/envs/myenv/lib/python3.10/site-packages/bitsandbytes/cuda_setup/main.py:147: UserWarning: /data/chenxi/anaconda3/envs/myenv did not contain ['libcudart.so', 'libcudart.so.11.0', 'libcudart.so.12.0'] as expected! Searching further paths...\n",
      "  warn(msg)\n",
      "/data/chenxi/anaconda3/envs/myenv/lib/python3.10/site-packages/bitsandbytes/cuda_setup/main.py:147: UserWarning: WARNING: The following directories listed in your path were found to be non-existent: {PosixPath('vs/workbench/api/node/extensionHostProcess')}\n",
      "  warn(msg)\n",
      "/data/chenxi/anaconda3/envs/myenv/lib/python3.10/site-packages/bitsandbytes/cuda_setup/main.py:147: UserWarning: WARNING: The following directories listed in your path were found to be non-existent: {PosixPath('module'), PosixPath('//matplotlib_inline.backend_inline')}\n",
      "  warn(msg)\n",
      "/data/chenxi/anaconda3/envs/myenv/lib/python3.10/site-packages/bitsandbytes/cuda_setup/main.py:147: UserWarning: Found duplicate ['libcudart.so', 'libcudart.so.11.0', 'libcudart.so.12.0'] files: {PosixPath('/usr/local/cuda/lib64/libcudart.so'), PosixPath('/usr/local/cuda/lib64/libcudart.so.11.0')}.. We'll flip a coin and try one of these, in order to fail forward.\n",
      "Either way, this might cause trouble in the future:\n",
      "If you get `CUDA error: invalid device function` errors, the above might be the cause and the solution is to make sure only one ['libcudart.so', 'libcudart.so.11.0', 'libcudart.so.12.0'] in the paths that we search based on your env.\n",
      "  warn(msg)\n"
     ]
    }
   ],
   "source": [
    "from utils import *\n",
    "from prompt.response_prompt import *\n",
    "from sklearn.linear_model import LogisticRegression\n",
    "from sklearn.neighbors import KNeighborsClassifier\n",
    "from sklearn.naive_bayes import GaussianNB\n",
    "from sklearn.tree import DecisionTreeClassifier\n",
    "from sklearn.ensemble import RandomForestClassifier, AdaBoostClassifier, GradientBoostingClassifier\n",
    "from sklearn.svm import SVC\n",
    "from xgboost import XGBClassifier\n",
    "from transformers import BertModel, BertTokenizer\n",
    "import re\n",
    "from sklearn.preprocessing import StandardScaler\n",
    "from sklearn.decomposition import PCA\n",
    "from sklearn.model_selection import KFold, cross_val_score\n",
    "from sklearn.feature_selection import SelectKBest, mutual_info_classif\n",
    "import pandas as pd\n",
    "import numpy as np\n",
    "import matplotlib.patches as mpatches\n",
    "import matplotlib.pyplot as plt\n"
   ]
  },
  {
   "cell_type": "code",
   "execution_count": 2,
   "metadata": {},
   "outputs": [],
   "source": [
    "df = arff_to_dataframe(\"/data/chenxi/llm-feature-engeneering/dataset/diabetes.arff\")"
   ]
  },
  {
   "cell_type": "code",
   "execution_count": 3,
   "metadata": {},
   "outputs": [],
   "source": [
    "\n",
    "models= {\n",
    "    # 'Logistic Regression': LogisticRegression(max_iter=1000000),\n",
    "    # 'K-Nearest Neighbors': KNeighborsClassifier(algorithm='ball_tree'),\n",
    "    # 'Naive Bayes': GaussianNB(),\n",
    "    # 'Decision Tree': DecisionTreeClassifier(),\n",
    "    'Random Forest': RandomForestClassifier(),\n",
    "    # 'AdaBoost': AdaBoostClassifier(),\n",
    "    # 'Gradient Boosting': GradientBoostingClassifier(),\n",
    "    # 'Support Vector Machine': SVC(probability=True),  # Enable probability estimates\n",
    "    # 'XGBoost': XGBClassifier(use_label_encoder=False, eval_metric='logloss'),\n",
    "}"
   ]
  },
  {
   "cell_type": "code",
   "execution_count": 4,
   "metadata": {},
   "outputs": [],
   "source": [
    "df['analysis'] = pd.read_csv('analysis.csv')\n",
    "df['sum']= pd.read_csv('sum.csv')"
   ]
  },
  {
   "cell_type": "code",
   "execution_count": null,
   "metadata": {},
   "outputs": [],
   "source": [
    "print(df.shape)"
   ]
  },
  {
   "cell_type": "code",
   "execution_count": 5,
   "metadata": {},
   "outputs": [
    {
     "name": "stdout",
     "output_type": "stream",
     "text": [
      "['Pregnancies', 'Glucose', 'BloodPressure', 'SkinThickness', 'Insulin', 'BMI', 'DiabetesPedigreeFunction', 'Age', 'Outcome', 'analysis', 'sum']\n"
     ]
    }
   ],
   "source": [
    "features_in_df_clean = df.columns.tolist()\n",
    "print(features_in_df_clean)"
   ]
  },
  {
   "cell_type": "code",
   "execution_count": 6,
   "metadata": {},
   "outputs": [],
   "source": [
    "# prompts = df.apply(lambda row: template.format(**row), axis=1)\n",
    "# df['analysis']= prompts.apply(lambda x: decoder_for_gpt3(x, max_length = 1000))\n",
    "# # Save the dataframe with the generated summaries to a new CSV file\n",
    "# df['analysis'].to_csv('analysis.csv', index=False)"
   ]
  },
  {
   "cell_type": "code",
   "execution_count": null,
   "metadata": {},
   "outputs": [],
   "source": [
    "# prompts_sum = df['analysis'].apply(lambda row: template_for_sum.format(analysis=row))\n",
    "# df['sum'] = prompts_sum.apply(lambda x: decoder_for_gpt3(x, max_length = 1000))\n",
    "# df['sum'].to_csv('sum.csv', index=False)"
   ]
  },
  {
   "cell_type": "code",
   "execution_count": 7,
   "metadata": {},
   "outputs": [],
   "source": [
    "def get_embedding(text, model=\"text-embedding-ada-002\"):\n",
    "    text = text.replace(\"\\n\", \" \")\n",
    "    return openai.Embedding.create(input = [text], model=model)['data'][0]['embedding']\n",
    "\n",
    "df['text_vector'] = df['analysis'].apply(lambda x: get_embedding(x, model='text-embedding-ada-002'))\n",
    "    \n",
    "def explode( col, prefix ):\n",
    "    n_cols = len( col[0] )\n",
    "    col_names = [ prefix + str(i) for i in range(n_cols) ]\n",
    "\n",
    "    return( pd.DataFrame( col.to_list(), columns=col_names) )\n",
    "\n",
    "tab_vec_name = 'text_vector'\n",
    "prefix = \"vec_\" \n",
    "\n",
    "# train_X\n",
    "exploded = explode( df[ tab_vec_name], prefix )\n",
    "df.loc[:, exploded.columns ] = exploded   # Idempotent replacement"
   ]
  },
  {
   "cell_type": "code",
   "execution_count": 8,
   "metadata": {},
   "outputs": [
    {
     "name": "stdout",
     "output_type": "stream",
     "text": [
      "Random Forest: accuracy: 0.7668958492487905 ± 0.027960210597016286\n"
     ]
    },
    {
     "ename": "KeyboardInterrupt",
     "evalue": "",
     "output_type": "error",
     "traceback": [
      "\u001b[0;31m---------------------------------------------------------------------------\u001b[0m",
      "\u001b[0;31mKeyboardInterrupt\u001b[0m                         Traceback (most recent call last)",
      "Cell \u001b[0;32mIn[8], line 147\u001b[0m\n\u001b[1;32m    143\u001b[0m         plt\u001b[39m.\u001b[39mshow()\n\u001b[1;32m    146\u001b[0m methods \u001b[39m=\u001b[39m [\u001b[39m'\u001b[39m\u001b[39mbaseline\u001b[39m\u001b[39m'\u001b[39m, \u001b[39m'\u001b[39m\u001b[39mSelectK\u001b[39m\u001b[39m'\u001b[39m, \u001b[39m'\u001b[39m\u001b[39mPCA\u001b[39m\u001b[39m'\u001b[39m]\n\u001b[0;32m--> 147\u001b[0m evaluate_models(df, models, methods)\n",
      "Cell \u001b[0;32mIn[8], line 122\u001b[0m, in \u001b[0;36mevaluate_models\u001b[0;34m(df, models, methods)\u001b[0m\n\u001b[1;32m    120\u001b[0m     X_final, y \u001b[39m=\u001b[39m method_PCA(df)\n\u001b[1;32m    121\u001b[0m \u001b[39melif\u001b[39;00m method \u001b[39m==\u001b[39m \u001b[39m'\u001b[39m\u001b[39mSelectK\u001b[39m\u001b[39m'\u001b[39m:\n\u001b[0;32m--> 122\u001b[0m     X_final, y \u001b[39m=\u001b[39m method_SelectK(df)\n\u001b[1;32m    124\u001b[0m \u001b[39m# ... (rest of the evaluation function logic)\u001b[39;00m\n\u001b[1;32m    125\u001b[0m kfold \u001b[39m=\u001b[39m KFold(n_splits\u001b[39m=\u001b[39m\u001b[39m5\u001b[39m, shuffle\u001b[39m=\u001b[39m\u001b[39mTrue\u001b[39;00m, random_state\u001b[39m=\u001b[39m\u001b[39m42\u001b[39m)\n",
      "Cell \u001b[0;32mIn[8], line 44\u001b[0m, in \u001b[0;36mmethod_SelectK\u001b[0;34m(df)\u001b[0m\n\u001b[1;32m     41\u001b[0m \u001b[39mfor\u001b[39;00m k \u001b[39min\u001b[39;00m possible_k_values:\n\u001b[1;32m     42\u001b[0m     \u001b[39m# Use SelectKBest to select top k features\u001b[39;00m\n\u001b[1;32m     43\u001b[0m     selector \u001b[39m=\u001b[39m SelectKBest(mutual_info_classif, k\u001b[39m=\u001b[39mk)\n\u001b[0;32m---> 44\u001b[0m     X_selected \u001b[39m=\u001b[39m selector\u001b[39m.\u001b[39;49mfit_transform(X_scaled, y)\n\u001b[1;32m     46\u001b[0m     \u001b[39m# Train and evaluate the model using cross-validation\u001b[39;00m\n\u001b[1;32m     47\u001b[0m     score \u001b[39m=\u001b[39m cross_val_score(model, X_selected, y, cv\u001b[39m=\u001b[39m\u001b[39m5\u001b[39m, scoring\u001b[39m=\u001b[39m\u001b[39m'\u001b[39m\u001b[39mroc_auc\u001b[39m\u001b[39m'\u001b[39m)\u001b[39m.\u001b[39mmean()\n",
      "File \u001b[0;32m/data/chenxi/anaconda3/envs/myenv/lib/python3.10/site-packages/sklearn/base.py:855\u001b[0m, in \u001b[0;36mTransformerMixin.fit_transform\u001b[0;34m(self, X, y, **fit_params)\u001b[0m\n\u001b[1;32m    852\u001b[0m     \u001b[39mreturn\u001b[39;00m \u001b[39mself\u001b[39m\u001b[39m.\u001b[39mfit(X, \u001b[39m*\u001b[39m\u001b[39m*\u001b[39mfit_params)\u001b[39m.\u001b[39mtransform(X)\n\u001b[1;32m    853\u001b[0m \u001b[39melse\u001b[39;00m:\n\u001b[1;32m    854\u001b[0m     \u001b[39m# fit method of arity 2 (supervised transformation)\u001b[39;00m\n\u001b[0;32m--> 855\u001b[0m     \u001b[39mreturn\u001b[39;00m \u001b[39mself\u001b[39;49m\u001b[39m.\u001b[39;49mfit(X, y, \u001b[39m*\u001b[39;49m\u001b[39m*\u001b[39;49mfit_params)\u001b[39m.\u001b[39mtransform(X)\n",
      "File \u001b[0;32m/data/chenxi/anaconda3/envs/myenv/lib/python3.10/site-packages/sklearn/feature_selection/_univariate_selection.py:408\u001b[0m, in \u001b[0;36m_BaseFilter.fit\u001b[0;34m(self, X, y)\u001b[0m\n\u001b[1;32m    402\u001b[0m     \u001b[39mraise\u001b[39;00m \u001b[39mTypeError\u001b[39;00m(\n\u001b[1;32m    403\u001b[0m         \u001b[39m\"\u001b[39m\u001b[39mThe score function should be a callable, \u001b[39m\u001b[39m%s\u001b[39;00m\u001b[39m (\u001b[39m\u001b[39m%s\u001b[39;00m\u001b[39m) was passed.\u001b[39m\u001b[39m\"\u001b[39m\n\u001b[1;32m    404\u001b[0m         \u001b[39m%\u001b[39m (\u001b[39mself\u001b[39m\u001b[39m.\u001b[39mscore_func, \u001b[39mtype\u001b[39m(\u001b[39mself\u001b[39m\u001b[39m.\u001b[39mscore_func))\n\u001b[1;32m    405\u001b[0m     )\n\u001b[1;32m    407\u001b[0m \u001b[39mself\u001b[39m\u001b[39m.\u001b[39m_check_params(X, y)\n\u001b[0;32m--> 408\u001b[0m score_func_ret \u001b[39m=\u001b[39m \u001b[39mself\u001b[39;49m\u001b[39m.\u001b[39;49mscore_func(X, y)\n\u001b[1;32m    409\u001b[0m \u001b[39mif\u001b[39;00m \u001b[39misinstance\u001b[39m(score_func_ret, (\u001b[39mlist\u001b[39m, \u001b[39mtuple\u001b[39m)):\n\u001b[1;32m    410\u001b[0m     \u001b[39mself\u001b[39m\u001b[39m.\u001b[39mscores_, \u001b[39mself\u001b[39m\u001b[39m.\u001b[39mpvalues_ \u001b[39m=\u001b[39m score_func_ret\n",
      "File \u001b[0;32m/data/chenxi/anaconda3/envs/myenv/lib/python3.10/site-packages/sklearn/feature_selection/_mutual_info.py:464\u001b[0m, in \u001b[0;36mmutual_info_classif\u001b[0;34m(X, y, discrete_features, n_neighbors, copy, random_state)\u001b[0m\n\u001b[1;32m    390\u001b[0m \u001b[39m\"\"\"Estimate mutual information for a discrete target variable.\u001b[39;00m\n\u001b[1;32m    391\u001b[0m \n\u001b[1;32m    392\u001b[0m \u001b[39mMutual information (MI) [1]_ between two random variables is a non-negative\u001b[39;00m\n\u001b[0;32m   (...)\u001b[0m\n\u001b[1;32m    461\u001b[0m \u001b[39m       of a Random Vector:, Probl. Peredachi Inf., 23:2 (1987), 9-16\u001b[39;00m\n\u001b[1;32m    462\u001b[0m \u001b[39m\"\"\"\u001b[39;00m\n\u001b[1;32m    463\u001b[0m check_classification_targets(y)\n\u001b[0;32m--> 464\u001b[0m \u001b[39mreturn\u001b[39;00m _estimate_mi(X, y, discrete_features, \u001b[39mTrue\u001b[39;49;00m, n_neighbors, copy, random_state)\n",
      "File \u001b[0;32m/data/chenxi/anaconda3/envs/myenv/lib/python3.10/site-packages/sklearn/feature_selection/_mutual_info.py:300\u001b[0m, in \u001b[0;36m_estimate_mi\u001b[0;34m(X, y, discrete_features, discrete_target, n_neighbors, copy, random_state)\u001b[0m\n\u001b[1;32m    297\u001b[0m     y \u001b[39m=\u001b[39m scale(y, with_mean\u001b[39m=\u001b[39m\u001b[39mFalse\u001b[39;00m)\n\u001b[1;32m    298\u001b[0m     y \u001b[39m+\u001b[39m\u001b[39m=\u001b[39m \u001b[39m1e-10\u001b[39m \u001b[39m*\u001b[39m np\u001b[39m.\u001b[39mmaximum(\u001b[39m1\u001b[39m, np\u001b[39m.\u001b[39mmean(np\u001b[39m.\u001b[39mabs(y))) \u001b[39m*\u001b[39m rng\u001b[39m.\u001b[39mrandn(n_samples)\n\u001b[0;32m--> 300\u001b[0m mi \u001b[39m=\u001b[39m [\n\u001b[1;32m    301\u001b[0m     _compute_mi(x, y, discrete_feature, discrete_target, n_neighbors)\n\u001b[1;32m    302\u001b[0m     \u001b[39mfor\u001b[39;00m x, discrete_feature \u001b[39min\u001b[39;00m \u001b[39mzip\u001b[39m(_iterate_columns(X), discrete_mask)\n\u001b[1;32m    303\u001b[0m ]\n\u001b[1;32m    305\u001b[0m \u001b[39mreturn\u001b[39;00m np\u001b[39m.\u001b[39marray(mi)\n",
      "File \u001b[0;32m/data/chenxi/anaconda3/envs/myenv/lib/python3.10/site-packages/sklearn/feature_selection/_mutual_info.py:301\u001b[0m, in \u001b[0;36m<listcomp>\u001b[0;34m(.0)\u001b[0m\n\u001b[1;32m    297\u001b[0m     y \u001b[39m=\u001b[39m scale(y, with_mean\u001b[39m=\u001b[39m\u001b[39mFalse\u001b[39;00m)\n\u001b[1;32m    298\u001b[0m     y \u001b[39m+\u001b[39m\u001b[39m=\u001b[39m \u001b[39m1e-10\u001b[39m \u001b[39m*\u001b[39m np\u001b[39m.\u001b[39mmaximum(\u001b[39m1\u001b[39m, np\u001b[39m.\u001b[39mmean(np\u001b[39m.\u001b[39mabs(y))) \u001b[39m*\u001b[39m rng\u001b[39m.\u001b[39mrandn(n_samples)\n\u001b[1;32m    300\u001b[0m mi \u001b[39m=\u001b[39m [\n\u001b[0;32m--> 301\u001b[0m     _compute_mi(x, y, discrete_feature, discrete_target, n_neighbors)\n\u001b[1;32m    302\u001b[0m     \u001b[39mfor\u001b[39;00m x, discrete_feature \u001b[39min\u001b[39;00m \u001b[39mzip\u001b[39m(_iterate_columns(X), discrete_mask)\n\u001b[1;32m    303\u001b[0m ]\n\u001b[1;32m    305\u001b[0m \u001b[39mreturn\u001b[39;00m np\u001b[39m.\u001b[39marray(mi)\n",
      "File \u001b[0;32m/data/chenxi/anaconda3/envs/myenv/lib/python3.10/site-packages/sklearn/feature_selection/_mutual_info.py:164\u001b[0m, in \u001b[0;36m_compute_mi\u001b[0;34m(x, y, x_discrete, y_discrete, n_neighbors)\u001b[0m\n\u001b[1;32m    162\u001b[0m     \u001b[39mreturn\u001b[39;00m _compute_mi_cd(y, x, n_neighbors)\n\u001b[1;32m    163\u001b[0m \u001b[39melif\u001b[39;00m \u001b[39mnot\u001b[39;00m x_discrete \u001b[39mand\u001b[39;00m y_discrete:\n\u001b[0;32m--> 164\u001b[0m     \u001b[39mreturn\u001b[39;00m _compute_mi_cd(x, y, n_neighbors)\n\u001b[1;32m    165\u001b[0m \u001b[39melse\u001b[39;00m:\n\u001b[1;32m    166\u001b[0m     \u001b[39mreturn\u001b[39;00m _compute_mi_cc(x, y, n_neighbors)\n",
      "File \u001b[0;32m/data/chenxi/anaconda3/envs/myenv/lib/python3.10/site-packages/sklearn/feature_selection/_mutual_info.py:126\u001b[0m, in \u001b[0;36m_compute_mi_cd\u001b[0;34m(c, d, n_neighbors)\u001b[0m\n\u001b[1;32m    124\u001b[0m nn\u001b[39m.\u001b[39mset_params(n_neighbors\u001b[39m=\u001b[39mk)\n\u001b[1;32m    125\u001b[0m nn\u001b[39m.\u001b[39mfit(c[mask])\n\u001b[0;32m--> 126\u001b[0m r \u001b[39m=\u001b[39m nn\u001b[39m.\u001b[39;49mkneighbors()[\u001b[39m0\u001b[39m]\n\u001b[1;32m    127\u001b[0m radius[mask] \u001b[39m=\u001b[39m np\u001b[39m.\u001b[39mnextafter(r[:, \u001b[39m-\u001b[39m\u001b[39m1\u001b[39m], \u001b[39m0\u001b[39m)\n\u001b[1;32m    128\u001b[0m k_all[mask] \u001b[39m=\u001b[39m k\n",
      "File \u001b[0;32m/data/chenxi/anaconda3/envs/myenv/lib/python3.10/site-packages/sklearn/neighbors/_base.py:776\u001b[0m, in \u001b[0;36mKNeighborsMixin.kneighbors\u001b[0;34m(self, X, n_neighbors, return_distance)\u001b[0m\n\u001b[1;32m    774\u001b[0m     \u001b[39melse\u001b[39;00m:\n\u001b[1;32m    775\u001b[0m         parallel_kwargs \u001b[39m=\u001b[39m {\u001b[39m\"\u001b[39m\u001b[39mprefer\u001b[39m\u001b[39m\"\u001b[39m: \u001b[39m\"\u001b[39m\u001b[39mthreads\u001b[39m\u001b[39m\"\u001b[39m}\n\u001b[0;32m--> 776\u001b[0m     chunked_results \u001b[39m=\u001b[39m Parallel(n_jobs, \u001b[39m*\u001b[39;49m\u001b[39m*\u001b[39;49mparallel_kwargs)(\n\u001b[1;32m    777\u001b[0m         delayed(_tree_query_parallel_helper)(\n\u001b[1;32m    778\u001b[0m             \u001b[39mself\u001b[39;49m\u001b[39m.\u001b[39;49m_tree, X[s], n_neighbors, return_distance\n\u001b[1;32m    779\u001b[0m         )\n\u001b[1;32m    780\u001b[0m         \u001b[39mfor\u001b[39;49;00m s \u001b[39min\u001b[39;49;00m gen_even_slices(X\u001b[39m.\u001b[39;49mshape[\u001b[39m0\u001b[39;49m], n_jobs)\n\u001b[1;32m    781\u001b[0m     )\n\u001b[1;32m    782\u001b[0m \u001b[39melse\u001b[39;00m:\n\u001b[1;32m    783\u001b[0m     \u001b[39mraise\u001b[39;00m \u001b[39mValueError\u001b[39;00m(\u001b[39m\"\u001b[39m\u001b[39minternal: _fit_method not recognized\u001b[39m\u001b[39m\"\u001b[39m)\n",
      "File \u001b[0;32m/data/chenxi/anaconda3/envs/myenv/lib/python3.10/site-packages/joblib/parallel.py:1863\u001b[0m, in \u001b[0;36mParallel.__call__\u001b[0;34m(self, iterable)\u001b[0m\n\u001b[1;32m   1861\u001b[0m     output \u001b[39m=\u001b[39m \u001b[39mself\u001b[39m\u001b[39m.\u001b[39m_get_sequential_output(iterable)\n\u001b[1;32m   1862\u001b[0m     \u001b[39mnext\u001b[39m(output)\n\u001b[0;32m-> 1863\u001b[0m     \u001b[39mreturn\u001b[39;00m output \u001b[39mif\u001b[39;00m \u001b[39mself\u001b[39m\u001b[39m.\u001b[39mreturn_generator \u001b[39melse\u001b[39;00m \u001b[39mlist\u001b[39;49m(output)\n\u001b[1;32m   1865\u001b[0m \u001b[39m# Let's create an ID that uniquely identifies the current call. If the\u001b[39;00m\n\u001b[1;32m   1866\u001b[0m \u001b[39m# call is interrupted early and that the same instance is immediately\u001b[39;00m\n\u001b[1;32m   1867\u001b[0m \u001b[39m# re-used, this id will be used to prevent workers that were\u001b[39;00m\n\u001b[1;32m   1868\u001b[0m \u001b[39m# concurrently finalizing a task from the previous call to run the\u001b[39;00m\n\u001b[1;32m   1869\u001b[0m \u001b[39m# callback.\u001b[39;00m\n\u001b[1;32m   1870\u001b[0m \u001b[39mwith\u001b[39;00m \u001b[39mself\u001b[39m\u001b[39m.\u001b[39m_lock:\n",
      "File \u001b[0;32m/data/chenxi/anaconda3/envs/myenv/lib/python3.10/site-packages/joblib/parallel.py:1792\u001b[0m, in \u001b[0;36mParallel._get_sequential_output\u001b[0;34m(self, iterable)\u001b[0m\n\u001b[1;32m   1790\u001b[0m \u001b[39mself\u001b[39m\u001b[39m.\u001b[39mn_dispatched_batches \u001b[39m+\u001b[39m\u001b[39m=\u001b[39m \u001b[39m1\u001b[39m\n\u001b[1;32m   1791\u001b[0m \u001b[39mself\u001b[39m\u001b[39m.\u001b[39mn_dispatched_tasks \u001b[39m+\u001b[39m\u001b[39m=\u001b[39m \u001b[39m1\u001b[39m\n\u001b[0;32m-> 1792\u001b[0m res \u001b[39m=\u001b[39m func(\u001b[39m*\u001b[39;49margs, \u001b[39m*\u001b[39;49m\u001b[39m*\u001b[39;49mkwargs)\n\u001b[1;32m   1793\u001b[0m \u001b[39mself\u001b[39m\u001b[39m.\u001b[39mn_completed_tasks \u001b[39m+\u001b[39m\u001b[39m=\u001b[39m \u001b[39m1\u001b[39m\n\u001b[1;32m   1794\u001b[0m \u001b[39mself\u001b[39m\u001b[39m.\u001b[39mprint_progress()\n",
      "File \u001b[0;32m/data/chenxi/anaconda3/envs/myenv/lib/python3.10/site-packages/sklearn/utils/fixes.py:216\u001b[0m, in \u001b[0;36m_FuncWrapper.__call__\u001b[0;34m(self, *args, **kwargs)\u001b[0m\n\u001b[1;32m    214\u001b[0m \u001b[39mdef\u001b[39;00m \u001b[39m__call__\u001b[39m(\u001b[39mself\u001b[39m, \u001b[39m*\u001b[39margs, \u001b[39m*\u001b[39m\u001b[39m*\u001b[39mkwargs):\n\u001b[1;32m    215\u001b[0m     \u001b[39mwith\u001b[39;00m config_context(\u001b[39m*\u001b[39m\u001b[39m*\u001b[39m\u001b[39mself\u001b[39m\u001b[39m.\u001b[39mconfig):\n\u001b[0;32m--> 216\u001b[0m         \u001b[39mreturn\u001b[39;00m \u001b[39mself\u001b[39;49m\u001b[39m.\u001b[39;49mfunction(\u001b[39m*\u001b[39;49margs, \u001b[39m*\u001b[39;49m\u001b[39m*\u001b[39;49mkwargs)\n",
      "File \u001b[0;32m/data/chenxi/anaconda3/envs/myenv/lib/python3.10/site-packages/sklearn/neighbors/_base.py:600\u001b[0m, in \u001b[0;36m_tree_query_parallel_helper\u001b[0;34m(tree, *args, **kwargs)\u001b[0m\n\u001b[1;32m    594\u001b[0m \u001b[39mdef\u001b[39;00m \u001b[39m_tree_query_parallel_helper\u001b[39m(tree, \u001b[39m*\u001b[39margs, \u001b[39m*\u001b[39m\u001b[39m*\u001b[39mkwargs):\n\u001b[1;32m    595\u001b[0m     \u001b[39m\"\"\"Helper for the Parallel calls in KNeighborsMixin.kneighbors.\u001b[39;00m\n\u001b[1;32m    596\u001b[0m \n\u001b[1;32m    597\u001b[0m \u001b[39m    The Cython method tree.query is not directly picklable by cloudpickle\u001b[39;00m\n\u001b[1;32m    598\u001b[0m \u001b[39m    under PyPy.\u001b[39;00m\n\u001b[1;32m    599\u001b[0m \u001b[39m    \"\"\"\u001b[39;00m\n\u001b[0;32m--> 600\u001b[0m     \u001b[39mreturn\u001b[39;00m tree\u001b[39m.\u001b[39;49mquery(\u001b[39m*\u001b[39;49margs, \u001b[39m*\u001b[39;49m\u001b[39m*\u001b[39;49mkwargs)\n",
      "\u001b[0;31mKeyboardInterrupt\u001b[0m: "
     ]
    },
    {
     "data": {
      "image/png": "[encoded data removed]",
      "text/plain": [
       "<Figure size 1500x1000 with 1 Axes>"
      ]
     },
     "metadata": {},
     "output_type": "display_data"
    }
   ],
   "source": [
    "# Utility functions\n",
    "def get_matching_cols(df, regex):\n",
    "    r = re.compile(regex)\n",
    "    return list(filter(r.match, df.columns))\n",
    "\n",
    "def get_embedding_cols(df):\n",
    "    return get_matching_cols(df, \"(vec_\\d+)\")\n",
    "\n",
    "def explode(col, prefix):\n",
    "    n_cols = len(col[0])\n",
    "    col_names = [prefix + str(i) for i in range(n_cols)]\n",
    "    return pd.DataFrame(col.to_list(), columns=col_names)\n",
    "\n",
    "# Methods for feature engineering\n",
    "def method_baseline(df):\n",
    "    X = df[['Pregnancies', 'Glucose', 'BloodPressure', 'SkinThickness', 'Insulin', 'BMI', 'DiabetesPedigreeFunction', 'Age']]\n",
    "    y = df[\"Outcome\"]\n",
    "    scaler = StandardScaler()\n",
    "    X_final = scaler.fit_transform(X)\n",
    "    return X_final, y\n",
    "\n",
    "def method_SelectK(df):\n",
    "    y = df[\"Outcome\"]\n",
    "    X_cat = df[['Pregnancies', 'Glucose', 'BloodPressure', 'SkinThickness', 'Insulin', 'BMI', 'DiabetesPedigreeFunction', 'Age']]\n",
    "    embed_cols = get_embedding_cols(df)\n",
    "    X_text = df[embed_cols]\n",
    "    X_comb = pd.concat([X_cat, X_text], axis=1)\n",
    "    scaler = StandardScaler()\n",
    "    X_scaled = scaler.fit_transform(X_comb)\n",
    "    \n",
    "    # Define a range of possible values of k\n",
    "    possible_k_values = list(range(1, 50))\n",
    "    \n",
    "    best_score = -np.inf\n",
    "    best_k = None\n",
    "    best_features = None\n",
    "\n",
    "    model = SVC(probability=True)\n",
    "\n",
    "    \n",
    "    for k in possible_k_values:\n",
    "        # Use SelectKBest to select top k features\n",
    "        selector = SelectKBest(mutual_info_classif, k=k)\n",
    "        X_selected = selector.fit_transform(X_scaled, y)\n",
    "        \n",
    "        # Train and evaluate the model using cross-validation\n",
    "        score = cross_val_score(model, X_selected, y, cv=5, scoring='roc_auc').mean()\n",
    "        \n",
    "        # If the score is the best so far, update best_k, best_score, and best_features\n",
    "        if score > best_score:\n",
    "            best_score = score\n",
    "            best_k = k\n",
    "            best_features = X_selected\n",
    "\n",
    "    # Combine the categorical data with the best selected features\n",
    "    X_final = pd.concat([X_cat, pd.DataFrame(best_features)], axis=1)\n",
    "    X_final.columns = X_final.columns.astype(str)\n",
    "    print(best_k)\n",
    "    \n",
    "    return X_final, y # Also return the best k for information\n",
    "\n",
    "\n",
    "\n",
    "def method_PCA(df):\n",
    "    \n",
    "    # Splitting X and y\n",
    "    X = df.drop('Outcome', axis=1)\n",
    "    y = df[\"Outcome\"]\n",
    "\n",
    "    # Separate original categorical features\n",
    "    X_cat =df[['Pregnancies', 'Glucose', 'BloodPressure', 'SkinThickness', 'Insulin', 'BMI', 'DiabetesPedigreeFunction', 'Age']]\n",
    "    # Extract the text embeddings\n",
    "    embed_cols = get_embedding_cols(X)\n",
    "    X_text = X[embed_cols]\n",
    "\n",
    "    # Combine the embeddings and the original set\n",
    "    X_comb = pd.concat([X_cat, X_text], axis=1)\n",
    "    scaler = StandardScaler()\n",
    "    X_scaled = scaler.fit_transform(X_comb)\n",
    "\n",
    "    # Applying PCA on the combined data\n",
    "    best_n_components = None\n",
    "    best_score = float('-inf')\n",
    "    for n_components in range(1, 50):  # Checking all possible number of components\n",
    "        pca = PCA(n_components=n_components)\n",
    "        X_pca = pca.fit_transform(X_scaled)\n",
    "\n",
    "        # Train a model (e.g., logistic regression) on the PCA components and compute the performance\n",
    "        model = LogisticRegression()\n",
    "        score = cross_val_score(model, X_pca, y, cv=5, scoring='roc_auc').mean()\n",
    "\n",
    "        if score > best_score:\n",
    "            best_score = score\n",
    "            best_n_components = n_components\n",
    "\n",
    "    # Use PCA with the best number of components\n",
    "    pca = PCA(n_components=best_n_components)\n",
    "    X_pca = pca.fit_transform(X_scaled)\n",
    "\n",
    "    # Combining PCA components with original categorical data\n",
    "    X_final = pd.concat([X_cat, pd.DataFrame(X_pca)], axis=1)\n",
    "    X_final.columns = X_final.columns.astype(str)\n",
    "\n",
    "    return X_final, y\n",
    "\n",
    "\n",
    "# Main evaluation function\n",
    "def evaluate_models(df, models, methods):\n",
    "    # logic to evaluate models with provided methods\n",
    "    colors = ['black', 'green', 'blue', 'red']\n",
    "\n",
    "    for metric in ['accuracy', 'roc_auc']:\n",
    "        plt.figure(figsize=(15, 10))\n",
    "\n",
    "        # Iterate through methods\n",
    "        for i, method in enumerate(methods):\n",
    "            if method == 'baseline':\n",
    "                X_final, y = method_baseline(df)\n",
    "            elif method == 'PCA':\n",
    "                X_final, y = method_PCA(df)\n",
    "            elif method == 'SelectK':\n",
    "                X_final, y = method_SelectK(df)\n",
    "        \n",
    "            # ... (rest of the evaluation function logic)\n",
    "            kfold = KFold(n_splits=5, shuffle=True, random_state=42)\n",
    "            performance_metrics = {metric: {model_name: cross_val_score(model, X_final, y, cv=kfold, scoring=metric) for model_name, model in models.items()}}\n",
    "\n",
    "            for name, scores in performance_metrics[metric].items():\n",
    "                print(f'{name}: {metric}: {scores.mean()} ± {scores.std()}')\n",
    "\n",
    "            x_ticks_positions = np.arange(len(models)) + i * 0.2\n",
    "            plt.boxplot([performance_metrics[metric][model_name] for model_name in models.keys()], positions=x_ticks_positions, widths=0.2, patch_artist=True,\n",
    "                        boxprops=dict(facecolor=colors[i], color=colors[i], alpha=0.6),\n",
    "                        capprops=dict(color=colors[i]),\n",
    "                        whiskerprops=dict(color=colors[i]),\n",
    "                        flierprops=dict(color=colors[i], markeredgecolor=colors[i]),\n",
    "                        medianprops=dict(color='black'))\n",
    "\n",
    "        plt.legend(handles=[mpatches.Patch(color=colors[i], label=methods[i]) for i in range(len(methods))], loc='upper right')\n",
    "        plt.title(f\"Model performance ({metric})\")\n",
    "        plt.ylabel(metric)\n",
    "        plt.xticks(ticks=np.arange(len(models)), labels=models.keys())\n",
    "        plt.show()\n",
    "\n",
    "\n",
    "methods = ['baseline', 'SelectK', 'PCA']\n",
    "evaluate_models(df, models, methods)"
   ]
  },
  {
   "cell_type": "code",
   "execution_count": null,
   "metadata": {},
   "outputs": [],
   "source": []
  }
 ],
 "metadata": {
  "kernelspec": {
   "display_name": "myenv",
   "language": "python",
   "name": "python3"
  },
  "language_info": {
   "codemirror_mode": {
    "name": "ipython",
    "version": 3
   },
   "file_extension": ".py",
   "mimetype": "text/x-python",
   "name": "python",
   "nbconvert_exporter": "python",
   "pygments_lexer": "ipython3",
   "version": "3.10.12"
  },
  "orig_nbformat": 4
 },
 "nbformat": 4,
 "nbformat_minor": 2
}
