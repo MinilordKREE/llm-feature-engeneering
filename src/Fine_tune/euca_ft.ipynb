{
 "cells": [
  {
   "cell_type": "code",
   "execution_count": 1,
   "metadata": {},
   "outputs": [
    {
     "name": "stderr",
     "output_type": "stream",
     "text": [
      "/data/chenxi/anaconda3/envs/myenv/lib/python3.10/site-packages/tqdm/auto.py:22: TqdmWarning: IProgress not found. Please update jupyter and ipywidgets. See https://ipywidgets.readthedocs.io/en/stable/user_install.html\n",
      "  from .autonotebook import tqdm as notebook_tqdm\n",
      "/data/chenxi/anaconda3/envs/myenv/lib/python3.10/site-packages/requests/__init__.py:102: RequestsDependencyWarning: urllib3 (1.26.16) or chardet (5.2.0)/charset_normalizer (2.0.12) doesn't match a supported version!\n",
      "  warnings.warn(\"urllib3 ({}) or chardet ({})/charset_normalizer ({}) doesn't match a supported \"\n"
     ]
    }
   ],
   "source": [
    "from base import *\n",
    "import csv\n",
    "import os\n",
    "os.environ[\"CUDA_VISIBLE_DEVICES\"] = \"7\""
   ]
  },
  {
   "cell_type": "code",
   "execution_count": 2,
   "metadata": {},
   "outputs": [],
   "source": [
    "from sklearn.preprocessing import LabelEncoder\n",
    "from io import StringIO\n",
    "file_path='/data/chenxi/llm-feature-engeneering/dataset/eucalyptus.arff'\n",
    "\n",
    "with open(file_path, 'r') as f:\n",
    "    lines = f.readlines()\n",
    "\n",
    "# Extract attribute names\n",
    "attributes = []\n",
    "for line in lines:\n",
    "    if line.startswith(\"@attribute\"):\n",
    "        attributes.append(line.split()[1])\n",
    "\n",
    "# Extract data\n",
    "data_start_index = lines.index(\"@data\\n\") + 1\n",
    "data_lines = \"\\n\".join(lines[data_start_index:])\n",
    "\n",
    "# Convert data lines to DataFrame\n",
    "df = pd.read_csv(StringIO(data_lines), header=None, names=attributes, na_values=\"?\")\n",
    "\n",
    "# Replace missing values with -1\n",
    "df.fillna(-1, inplace=True)\n",
    "\n",
    "# Convert categorical string data into numbers\n",
    "for column in df.columns:\n",
    "    if df[column].dtype == 'object':  # Check if the column is of object type (string)\n",
    "        le = LabelEncoder()\n",
    "        df[column] = le.fit_transform(df[column])"
   ]
  },
  {
   "cell_type": "code",
   "execution_count": 3,
   "metadata": {},
   "outputs": [
    {
     "data": {
      "text/plain": [
       "<bound method IndexOpsMixin.tolist of Index(['Abbrev', 'Rep', 'Locality', 'Map_Ref', 'Latitude', 'Altitude',\n",
       "       'Rainfall', 'Frosts', 'Year', 'Sp', 'PMCno', 'DBH', 'Ht', 'Surv', 'Vig',\n",
       "       'Ins_res', 'Stem_Fm', 'Crown_Fm', 'Brnch_Fm', 'binaryClass'],\n",
       "      dtype='object')>"
      ]
     },
     "execution_count": 3,
     "metadata": {},
     "output_type": "execute_result"
    }
   ],
   "source": [
    "df.columns.to_list"
   ]
  },
  {
   "cell_type": "code",
   "execution_count": 4,
   "metadata": {},
   "outputs": [
    {
     "name": "stdout",
     "output_type": "stream",
     "text": [
      "\n",
      "===================================BUG REPORT===================================\n",
      "Welcome to bitsandbytes. For bug reports, please run\n",
      "\n",
      "python -m bitsandbytes\n",
      "\n",
      " and submit this information together with your error trace to: https://github.com/TimDettmers/bitsandbytes/issues\n",
      "================================================================================\n",
      "CUDA_SETUP: WARNING! libcudart.so not found in any environmental path. Searching in backup paths...\n",
      "CUDA SETUP: CUDA runtime path found: /usr/local/cuda/lib64/libcudart.so.11.0\n",
      "CUDA SETUP: Highest compute capability among GPUs detected: 8.6\n",
      "CUDA SETUP: Detected CUDA version 117\n",
      "CUDA SETUP: Loading binary /data/chenxi/anaconda3/envs/myenv/lib/python3.10/site-packages/bitsandbytes/libbitsandbytes_cuda117.so...\n"
     ]
    },
    {
     "name": "stderr",
     "output_type": "stream",
     "text": [
      "/data/chenxi/anaconda3/envs/myenv/lib/python3.10/site-packages/bitsandbytes/cuda_setup/main.py:147: UserWarning: /data/chenxi/anaconda3/envs/myenv did not contain ['libcudart.so', 'libcudart.so.11.0', 'libcudart.so.12.0'] as expected! Searching further paths...\n",
      "  warn(msg)\n",
      "/data/chenxi/anaconda3/envs/myenv/lib/python3.10/site-packages/bitsandbytes/cuda_setup/main.py:147: UserWarning: WARNING: The following directories listed in your path were found to be non-existent: {PosixPath('vs/workbench/api/node/extensionHostProcess')}\n",
      "  warn(msg)\n",
      "/data/chenxi/anaconda3/envs/myenv/lib/python3.10/site-packages/bitsandbytes/cuda_setup/main.py:147: UserWarning: WARNING: The following directories listed in your path were found to be non-existent: {PosixPath('module'), PosixPath('//matplotlib_inline.backend_inline')}\n",
      "  warn(msg)\n",
      "/data/chenxi/anaconda3/envs/myenv/lib/python3.10/site-packages/bitsandbytes/cuda_setup/main.py:147: UserWarning: Found duplicate ['libcudart.so', 'libcudart.so.11.0', 'libcudart.so.12.0'] files: {PosixPath('/usr/local/cuda/lib64/libcudart.so.11.0'), PosixPath('/usr/local/cuda/lib64/libcudart.so')}.. We'll flip a coin and try one of these, in order to fail forward.\n",
      "Either way, this might cause trouble in the future:\n",
      "If you get `CUDA error: invalid device function` errors, the above might be the cause and the solution is to make sure only one ['libcudart.so', 'libcudart.so.11.0', 'libcudart.so.12.0'] in the paths that we search based on your env.\n",
      "  warn(msg)\n",
      "INFO:torch.distributed.nn.jit.instantiator:Created a temporary directory at /tmp/tmpinnbh75h\n",
      "INFO:torch.distributed.nn.jit.instantiator:Writing /tmp/tmpinnbh75h/_remote_module_non_scriptable.py\n",
      "/data/chenxi/anaconda3/envs/myenv/lib/python3.10/site-packages/xgboost/sklearn.py:1395: UserWarning: `use_label_encoder` is deprecated in 1.7.0.\n",
      "  warnings.warn(\"`use_label_encoder` is deprecated in 1.7.0.\")\n"
     ]
    }
   ],
   "source": [
    "from sklearn.linear_model import LogisticRegression\n",
    "from sklearn.neighbors import KNeighborsClassifier\n",
    "from sklearn.naive_bayes import GaussianNB\n",
    "from sklearn.tree import DecisionTreeClassifier\n",
    "from sklearn.ensemble import RandomForestClassifier, AdaBoostClassifier, GradientBoostingClassifier\n",
    "from sklearn.svm import SVC\n",
    "from xgboost import XGBClassifier\n",
    "from transformers import BertModel, BertTokenizer\n",
    "\n",
    "models = {\n",
    "    'Logistic Regression': LogisticRegression(max_iter=1000000),\n",
    "    'Random Forest': RandomForestClassifier(),\n",
    "    'AdaBoost': AdaBoostClassifier(),\n",
    "    'Gradient Boosting': GradientBoostingClassifier(),\n",
    "    'XGBoost': XGBClassifier(use_label_encoder=False, eval_metric='logloss'),\n",
    "}"
   ]
  },
  {
   "cell_type": "code",
   "execution_count": 5,
   "metadata": {},
   "outputs": [],
   "source": [
    "from sklearn.preprocessing import StandardScaler\n",
    "from sklearn.model_selection import KFold, cross_val_score\n",
    "from sklearn.metrics import roc_auc_score\n",
    "from sklearn.feature_selection import SelectKBest, mutual_info_classif\n",
    "import matplotlib.patches as mpatches\n",
    "import matplotlib.pyplot as plt\n",
    "import numpy as np\n",
    "import re\n",
    "def get_matching_cols(df, regex):\n",
    "    r = re.compile(regex)\n",
    "    return( list( filter( r.match, df.columns) ) )\n",
    "\n",
    "def get_embedding_cols(df):\n",
    "    return get_matching_cols(df, \"(vec_\\d+)\")"
   ]
  },
  {
   "cell_type": "markdown",
   "metadata": {},
   "source": [
    "## ours\n"
   ]
  },
  {
   "cell_type": "code",
   "execution_count": 6,
   "metadata": {},
   "outputs": [
    {
     "name": "stderr",
     "output_type": "stream",
     "text": [
      "/data/chenxi/anaconda3/envs/myenv/lib/python3.10/site-packages/xgboost/sklearn.py:1395: UserWarning: `use_label_encoder` is deprecated in 1.7.0.\n",
      "  warnings.warn(\"`use_label_encoder` is deprecated in 1.7.0.\")\n",
      "INFO:base:Downloading pre-trained model 'fine_tuned_model_euca1'\n"
     ]
    },
    {
     "name": "stdout",
     "output_type": "stream",
     "text": [
      "Processing seed 0...\n"
     ]
    },
    {
     "name": "stderr",
     "output_type": "stream",
     "text": [
      "INFO:base:Downloading tokenizer for 'fine_tuned_model_euca1'\n",
      "INFO:base:Generating embedding vectors\n",
      "Map: 100%|██████████| 470/470 [00:02<00:00, 176.18 examples/s]\n",
      "INFO:base:Generating embedding vectors\n",
      "Map: 100%|██████████| 148/148 [00:00<00:00, 259.17 examples/s]\n"
     ]
    },
    {
     "name": "stdout",
     "output_type": "stream",
     "text": [
      "Method: baseline | Model: Logistic Regression | accuracy: 0.7162162162162162\n",
      "Method: baseline | Model: Logistic Regression | roc_auc: 0.8118089861209127\n",
      "Method: baseline | Model: Random Forest | accuracy: 0.7567567567567568\n",
      "Method: baseline | Model: Random Forest | roc_auc: 0.8048694424841214\n",
      "Method: baseline | Model: AdaBoost | accuracy: 0.7432432432432432\n",
      "Method: baseline | Model: AdaBoost | roc_auc: 0.7901670195248177\n",
      "Method: baseline | Model: Gradient Boosting | accuracy: 0.777027027027027\n",
      "Method: baseline | Model: Gradient Boosting | roc_auc: 0.8310985650435192\n",
      "Method: baseline | Model: Support Vector Machine | accuracy: 0.7162162162162162\n",
      "Method: baseline | Model: Support Vector Machine | roc_auc: 0.814631851329099\n",
      "Method: baseline | Model: XGBoost | accuracy: 0.7364864864864865\n",
      "Method: baseline | Model: XGBoost | roc_auc: 0.8052223006351447\n"
     ]
    },
    {
     "name": "stderr",
     "output_type": "stream",
     "text": [
      "/data/chenxi/anaconda3/envs/myenv/lib/python3.10/site-packages/sklearn/linear_model/_logistic.py:814: ConvergenceWarning: lbfgs failed to converge (status=1):\n",
      "STOP: TOTAL NO. of ITERATIONS REACHED LIMIT.\n",
      "\n",
      "Increase the number of iterations (max_iter) or scale the data as shown in:\n",
      "    https://scikit-learn.org/stable/modules/preprocessing.html\n",
      "Please also refer to the documentation for alternative solver options:\n",
      "    https://scikit-learn.org/stable/modules/linear_model.html#logistic-regression\n",
      "  n_iter_i = _check_optimize_result(\n"
     ]
    },
    {
     "name": "stdout",
     "output_type": "stream",
     "text": [
      "Method: SelectK | Model: Logistic Regression | accuracy: 0.8851351351351351\n",
      "Method: SelectK | Model: Logistic Regression | roc_auc: 0.926605504587156\n",
      "Method: SelectK | Model: Random Forest | accuracy: 0.8851351351351351\n",
      "Method: SelectK | Model: Random Forest | roc_auc: 0.948247471183251\n",
      "Method: SelectK | Model: AdaBoost | accuracy: 0.8783783783783784\n",
      "Method: SelectK | Model: AdaBoost | roc_auc: 0.8807339449541285\n",
      "Method: SelectK | Model: Gradient Boosting | accuracy: 0.8716216216216216\n",
      "Method: SelectK | Model: Gradient Boosting | roc_auc: 0.9237826393789696\n",
      "Method: SelectK | Model: Support Vector Machine | accuracy: 0.7364864864864865\n",
      "Method: SelectK | Model: Support Vector Machine | roc_auc: 0.846389084921195\n",
      "Method: SelectK | Model: XGBoost | accuracy: 0.8851351351351351\n",
      "Method: SelectK | Model: XGBoost | roc_auc: 0.9322512350035286\n"
     ]
    },
    {
     "name": "stderr",
     "output_type": "stream",
     "text": [
      "/data/chenxi/anaconda3/envs/myenv/lib/python3.10/site-packages/sklearn/linear_model/_logistic.py:814: ConvergenceWarning: lbfgs failed to converge (status=1):\n",
      "STOP: TOTAL NO. of ITERATIONS REACHED LIMIT.\n",
      "\n",
      "Increase the number of iterations (max_iter) or scale the data as shown in:\n",
      "    https://scikit-learn.org/stable/modules/preprocessing.html\n",
      "Please also refer to the documentation for alternative solver options:\n",
      "    https://scikit-learn.org/stable/modules/linear_model.html#logistic-regression\n",
      "  n_iter_i = _check_optimize_result(\n",
      "/data/chenxi/anaconda3/envs/myenv/lib/python3.10/site-packages/sklearn/linear_model/_logistic.py:814: ConvergenceWarning: lbfgs failed to converge (status=1):\n",
      "STOP: TOTAL NO. of ITERATIONS REACHED LIMIT.\n",
      "\n",
      "Increase the number of iterations (max_iter) or scale the data as shown in:\n",
      "    https://scikit-learn.org/stable/modules/preprocessing.html\n",
      "Please also refer to the documentation for alternative solver options:\n",
      "    https://scikit-learn.org/stable/modules/linear_model.html#logistic-regression\n",
      "  n_iter_i = _check_optimize_result(\n",
      "/data/chenxi/anaconda3/envs/myenv/lib/python3.10/site-packages/sklearn/linear_model/_logistic.py:814: ConvergenceWarning: lbfgs failed to converge (status=1):\n",
      "STOP: TOTAL NO. of ITERATIONS REACHED LIMIT.\n",
      "\n",
      "Increase the number of iterations (max_iter) or scale the data as shown in:\n",
      "    https://scikit-learn.org/stable/modules/preprocessing.html\n",
      "Please also refer to the documentation for alternative solver options:\n",
      "    https://scikit-learn.org/stable/modules/linear_model.html#logistic-regression\n",
      "  n_iter_i = _check_optimize_result(\n",
      "/data/chenxi/anaconda3/envs/myenv/lib/python3.10/site-packages/sklearn/linear_model/_logistic.py:814: ConvergenceWarning: lbfgs failed to converge (status=1):\n",
      "STOP: TOTAL NO. of ITERATIONS REACHED LIMIT.\n",
      "\n",
      "Increase the number of iterations (max_iter) or scale the data as shown in:\n",
      "    https://scikit-learn.org/stable/modules/preprocessing.html\n",
      "Please also refer to the documentation for alternative solver options:\n",
      "    https://scikit-learn.org/stable/modules/linear_model.html#logistic-regression\n",
      "  n_iter_i = _check_optimize_result(\n",
      "/data/chenxi/anaconda3/envs/myenv/lib/python3.10/site-packages/sklearn/linear_model/_logistic.py:814: ConvergenceWarning: lbfgs failed to converge (status=1):\n",
      "STOP: TOTAL NO. of ITERATIONS REACHED LIMIT.\n",
      "\n",
      "Increase the number of iterations (max_iter) or scale the data as shown in:\n",
      "    https://scikit-learn.org/stable/modules/preprocessing.html\n",
      "Please also refer to the documentation for alternative solver options:\n",
      "    https://scikit-learn.org/stable/modules/linear_model.html#logistic-regression\n",
      "  n_iter_i = _check_optimize_result(\n",
      "/data/chenxi/anaconda3/envs/myenv/lib/python3.10/site-packages/sklearn/linear_model/_logistic.py:814: ConvergenceWarning: lbfgs failed to converge (status=1):\n",
      "STOP: TOTAL NO. of ITERATIONS REACHED LIMIT.\n",
      "\n",
      "Increase the number of iterations (max_iter) or scale the data as shown in:\n",
      "    https://scikit-learn.org/stable/modules/preprocessing.html\n",
      "Please also refer to the documentation for alternative solver options:\n",
      "    https://scikit-learn.org/stable/modules/linear_model.html#logistic-regression\n",
      "  n_iter_i = _check_optimize_result(\n",
      "/data/chenxi/anaconda3/envs/myenv/lib/python3.10/site-packages/sklearn/linear_model/_logistic.py:814: ConvergenceWarning: lbfgs failed to converge (status=1):\n",
      "STOP: TOTAL NO. of ITERATIONS REACHED LIMIT.\n",
      "\n",
      "Increase the number of iterations (max_iter) or scale the data as shown in:\n",
      "    https://scikit-learn.org/stable/modules/preprocessing.html\n",
      "Please also refer to the documentation for alternative solver options:\n",
      "    https://scikit-learn.org/stable/modules/linear_model.html#logistic-regression\n",
      "  n_iter_i = _check_optimize_result(\n"
     ]
    },
    {
     "name": "stdout",
     "output_type": "stream",
     "text": [
      "Method: PCA | Model: Logistic Regression | accuracy: 0.8648648648648649\n",
      "Method: PCA | Model: Logistic Regression | roc_auc: 0.8602681721947777\n",
      "Method: PCA | Model: Random Forest | accuracy: 0.8581081081081081\n",
      "Method: PCA | Model: Random Forest | roc_auc: 0.8739120207010115\n",
      "Method: PCA | Model: AdaBoost | accuracy: 0.8648648648648649\n",
      "Method: PCA | Model: AdaBoost | roc_auc: 0.8717948717948718\n",
      "Method: PCA | Model: Gradient Boosting | accuracy: 0.8648648648648649\n",
      "Method: PCA | Model: Gradient Boosting | roc_auc: 0.8661491413784992\n",
      "Method: PCA | Model: Support Vector Machine | accuracy: 0.8783783783783784\n",
      "Method: PCA | Model: Support Vector Machine | roc_auc: 0.869677722888732\n"
     ]
    },
    {
     "name": "stderr",
     "output_type": "stream",
     "text": [
      "INFO:base:Downloading pre-trained model 'fine_tuned_model_euca2'\n"
     ]
    },
    {
     "name": "stdout",
     "output_type": "stream",
     "text": [
      "Method: PCA | Model: XGBoost | accuracy: 0.8918918918918919\n",
      "Method: PCA | Model: XGBoost | roc_auc: 0.8687367678193366\n",
      "Processing seed 1...\n"
     ]
    },
    {
     "name": "stderr",
     "output_type": "stream",
     "text": [
      "INFO:base:Downloading tokenizer for 'fine_tuned_model_euca2'\n",
      "INFO:base:Generating embedding vectors\n",
      "Map: 100%|██████████| 470/470 [00:01<00:00, 260.93 examples/s]\n",
      "INFO:base:Generating embedding vectors\n",
      "Map: 100%|██████████| 148/148 [00:00<00:00, 256.69 examples/s]\n"
     ]
    },
    {
     "name": "stdout",
     "output_type": "stream",
     "text": [
      "Method: baseline | Model: Logistic Regression | accuracy: 0.7364864864864865\n",
      "Method: baseline | Model: Logistic Regression | roc_auc: 0.8156436487638533\n",
      "Method: baseline | Model: Random Forest | accuracy: 0.7635135135135135\n",
      "Method: baseline | Model: Random Forest | roc_auc: 0.8649829497016198\n",
      "Method: baseline | Model: AdaBoost | accuracy: 0.7635135135135135\n",
      "Method: baseline | Model: AdaBoost | roc_auc: 0.7874040920716113\n",
      "Method: baseline | Model: Gradient Boosting | accuracy: 0.75\n",
      "Method: baseline | Model: Gradient Boosting | roc_auc: 0.8427109974424551\n",
      "Method: baseline | Model: Support Vector Machine | accuracy: 0.75\n",
      "Method: baseline | Model: Support Vector Machine | roc_auc: 0.8352514919011083\n",
      "Method: baseline | Model: XGBoost | accuracy: 0.7702702702702703\n",
      "Method: baseline | Model: XGBoost | roc_auc: 0.8491048593350384\n"
     ]
    },
    {
     "name": "stderr",
     "output_type": "stream",
     "text": [
      "/data/chenxi/anaconda3/envs/myenv/lib/python3.10/site-packages/sklearn/linear_model/_logistic.py:814: ConvergenceWarning: lbfgs failed to converge (status=1):\n",
      "STOP: TOTAL NO. of ITERATIONS REACHED LIMIT.\n",
      "\n",
      "Increase the number of iterations (max_iter) or scale the data as shown in:\n",
      "    https://scikit-learn.org/stable/modules/preprocessing.html\n",
      "Please also refer to the documentation for alternative solver options:\n",
      "    https://scikit-learn.org/stable/modules/linear_model.html#logistic-regression\n",
      "  n_iter_i = _check_optimize_result(\n"
     ]
    },
    {
     "name": "stdout",
     "output_type": "stream",
     "text": [
      "Method: SelectK | Model: Logistic Regression | accuracy: 0.8783783783783784\n",
      "Method: SelectK | Model: Logistic Regression | roc_auc: 0.926470588235294\n",
      "Method: SelectK | Model: Random Forest | accuracy: 0.8986486486486487\n",
      "Method: SelectK | Model: Random Forest | roc_auc: 0.9628090366581414\n",
      "Method: SelectK | Model: AdaBoost | accuracy: 0.9121621621621622\n",
      "Method: SelectK | Model: AdaBoost | roc_auc: 0.9352088661551577\n",
      "Method: SelectK | Model: Gradient Boosting | accuracy: 0.9054054054054054\n",
      "Method: SelectK | Model: Gradient Boosting | roc_auc: 0.9654731457800512\n",
      "Method: SelectK | Model: Support Vector Machine | accuracy: 0.6891891891891891\n",
      "Method: SelectK | Model: Support Vector Machine | roc_auc: 0.86615515771526\n",
      "Method: SelectK | Model: XGBoost | accuracy: 0.8986486486486487\n",
      "Method: SelectK | Model: XGBoost | roc_auc: 0.9569479965899403\n",
      "Method: PCA | Model: Logistic Regression | accuracy: 0.8851351351351351\n",
      "Method: PCA | Model: Logistic Regression | roc_auc: 0.8770247229326513\n",
      "Method: PCA | Model: Random Forest | accuracy: 0.8783783783783784\n",
      "Method: PCA | Model: Random Forest | roc_auc: 0.8822463768115942\n",
      "Method: PCA | Model: AdaBoost | accuracy: 0.8783783783783784\n",
      "Method: PCA | Model: AdaBoost | roc_auc: 0.8700980392156863\n",
      "Method: PCA | Model: Gradient Boosting | accuracy: 0.8783783783783784\n",
      "Method: PCA | Model: Gradient Boosting | roc_auc: 0.8729752770673488\n",
      "Method: PCA | Model: Support Vector Machine | accuracy: 0.8918918918918919\n",
      "Method: PCA | Model: Support Vector Machine | roc_auc: 0.8925831202046035\n"
     ]
    },
    {
     "name": "stderr",
     "output_type": "stream",
     "text": [
      "INFO:base:Downloading pre-trained model 'fine_tuned_model_euca3'\n"
     ]
    },
    {
     "name": "stdout",
     "output_type": "stream",
     "text": [
      "Method: PCA | Model: XGBoost | accuracy: 0.8783783783783784\n",
      "Method: PCA | Model: XGBoost | roc_auc: 0.9002557544757033\n",
      "Processing seed 2...\n"
     ]
    },
    {
     "name": "stderr",
     "output_type": "stream",
     "text": [
      "INFO:base:Downloading tokenizer for 'fine_tuned_model_euca3'\n",
      "INFO:base:Generating embedding vectors\n",
      "Map: 100%|██████████| 470/470 [00:01<00:00, 264.62 examples/s]\n",
      "INFO:base:Generating embedding vectors\n",
      "Map: 100%|██████████| 148/148 [00:00<00:00, 260.32 examples/s]\n"
     ]
    },
    {
     "name": "stdout",
     "output_type": "stream",
     "text": [
      "Method: baseline | Model: Logistic Regression | accuracy: 0.7567567567567568\n",
      "Method: baseline | Model: Logistic Regression | roc_auc: 0.8175618073316283\n",
      "Method: baseline | Model: Random Forest | accuracy: 0.7635135135135135\n",
      "Method: baseline | Model: Random Forest | roc_auc: 0.8911977834612106\n",
      "Method: baseline | Model: AdaBoost | accuracy: 0.7635135135135135\n",
      "Method: baseline | Model: AdaBoost | roc_auc: 0.819160272804774\n",
      "Method: baseline | Model: Gradient Boosting | accuracy: 0.8175675675675675\n",
      "Method: baseline | Model: Gradient Boosting | roc_auc: 0.8951406649616368\n",
      "Method: baseline | Model: Support Vector Machine | accuracy: 0.7837837837837838\n",
      "Method: baseline | Model: Support Vector Machine | roc_auc: 0.8442028985507246\n",
      "Method: baseline | Model: XGBoost | accuracy: 0.7635135135135135\n",
      "Method: baseline | Model: XGBoost | roc_auc: 0.8691389599317988\n"
     ]
    },
    {
     "name": "stderr",
     "output_type": "stream",
     "text": [
      "/data/chenxi/anaconda3/envs/myenv/lib/python3.10/site-packages/sklearn/linear_model/_logistic.py:814: ConvergenceWarning: lbfgs failed to converge (status=1):\n",
      "STOP: TOTAL NO. of ITERATIONS REACHED LIMIT.\n",
      "\n",
      "Increase the number of iterations (max_iter) or scale the data as shown in:\n",
      "    https://scikit-learn.org/stable/modules/preprocessing.html\n",
      "Please also refer to the documentation for alternative solver options:\n",
      "    https://scikit-learn.org/stable/modules/linear_model.html#logistic-regression\n",
      "  n_iter_i = _check_optimize_result(\n"
     ]
    },
    {
     "name": "stdout",
     "output_type": "stream",
     "text": [
      "Method: SelectK | Model: Logistic Regression | accuracy: 0.8648648648648649\n",
      "Method: SelectK | Model: Logistic Regression | roc_auc: 0.9183716965046889\n",
      "Method: SelectK | Model: Random Forest | accuracy: 0.8851351351351351\n",
      "Method: SelectK | Model: Random Forest | roc_auc: 0.9616368286445013\n",
      "Method: SelectK | Model: AdaBoost | accuracy: 0.918918918918919\n",
      "Method: SelectK | Model: AdaBoost | roc_auc: 0.9669650468883205\n",
      "Method: SelectK | Model: Gradient Boosting | accuracy: 0.9121621621621622\n",
      "Method: SelectK | Model: Gradient Boosting | roc_auc: 0.9699488491048593\n",
      "Method: SelectK | Model: Support Vector Machine | accuracy: 0.6891891891891891\n",
      "Method: SelectK | Model: Support Vector Machine | roc_auc: 0.9211423699914748\n",
      "Method: SelectK | Model: XGBoost | accuracy: 0.9054054054054054\n",
      "Method: SelectK | Model: XGBoost | roc_auc: 0.9635549872122762\n"
     ]
    },
    {
     "name": "stderr",
     "output_type": "stream",
     "text": [
      "/data/chenxi/anaconda3/envs/myenv/lib/python3.10/site-packages/sklearn/linear_model/_logistic.py:814: ConvergenceWarning: lbfgs failed to converge (status=1):\n",
      "STOP: TOTAL NO. of ITERATIONS REACHED LIMIT.\n",
      "\n",
      "Increase the number of iterations (max_iter) or scale the data as shown in:\n",
      "    https://scikit-learn.org/stable/modules/preprocessing.html\n",
      "Please also refer to the documentation for alternative solver options:\n",
      "    https://scikit-learn.org/stable/modules/linear_model.html#logistic-regression\n",
      "  n_iter_i = _check_optimize_result(\n",
      "/data/chenxi/anaconda3/envs/myenv/lib/python3.10/site-packages/sklearn/linear_model/_logistic.py:814: ConvergenceWarning: lbfgs failed to converge (status=1):\n",
      "STOP: TOTAL NO. of ITERATIONS REACHED LIMIT.\n",
      "\n",
      "Increase the number of iterations (max_iter) or scale the data as shown in:\n",
      "    https://scikit-learn.org/stable/modules/preprocessing.html\n",
      "Please also refer to the documentation for alternative solver options:\n",
      "    https://scikit-learn.org/stable/modules/linear_model.html#logistic-regression\n",
      "  n_iter_i = _check_optimize_result(\n",
      "/data/chenxi/anaconda3/envs/myenv/lib/python3.10/site-packages/sklearn/linear_model/_logistic.py:814: ConvergenceWarning: lbfgs failed to converge (status=1):\n",
      "STOP: TOTAL NO. of ITERATIONS REACHED LIMIT.\n",
      "\n",
      "Increase the number of iterations (max_iter) or scale the data as shown in:\n",
      "    https://scikit-learn.org/stable/modules/preprocessing.html\n",
      "Please also refer to the documentation for alternative solver options:\n",
      "    https://scikit-learn.org/stable/modules/linear_model.html#logistic-regression\n",
      "  n_iter_i = _check_optimize_result(\n",
      "/data/chenxi/anaconda3/envs/myenv/lib/python3.10/site-packages/sklearn/linear_model/_logistic.py:814: ConvergenceWarning: lbfgs failed to converge (status=1):\n",
      "STOP: TOTAL NO. of ITERATIONS REACHED LIMIT.\n",
      "\n",
      "Increase the number of iterations (max_iter) or scale the data as shown in:\n",
      "    https://scikit-learn.org/stable/modules/preprocessing.html\n",
      "Please also refer to the documentation for alternative solver options:\n",
      "    https://scikit-learn.org/stable/modules/linear_model.html#logistic-regression\n",
      "  n_iter_i = _check_optimize_result(\n"
     ]
    },
    {
     "name": "stdout",
     "output_type": "stream",
     "text": [
      "Method: PCA | Model: Logistic Regression | accuracy: 0.8918918918918919\n",
      "Method: PCA | Model: Logistic Regression | roc_auc: 0.9217817561807332\n",
      "Method: PCA | Model: Random Forest | accuracy: 0.8716216216216216\n",
      "Method: PCA | Model: Random Forest | roc_auc: 0.8461210571184996\n",
      "Method: PCA | Model: AdaBoost | accuracy: 0.8716216216216216\n",
      "Method: PCA | Model: AdaBoost | roc_auc: 0.8873614663256607\n",
      "Method: PCA | Model: Gradient Boosting | accuracy: 0.8581081081081081\n",
      "Method: PCA | Model: Gradient Boosting | roc_auc: 0.8791560102301791\n",
      "Method: PCA | Model: Support Vector Machine | accuracy: 0.8648648648648649\n",
      "Method: PCA | Model: Support Vector Machine | roc_auc: 0.8908780903665814\n"
     ]
    },
    {
     "name": "stderr",
     "output_type": "stream",
     "text": [
      "INFO:base:Downloading pre-trained model 'fine_tuned_model_euca4'\n"
     ]
    },
    {
     "name": "stdout",
     "output_type": "stream",
     "text": [
      "Method: PCA | Model: XGBoost | accuracy: 0.8918918918918919\n",
      "Method: PCA | Model: XGBoost | roc_auc: 0.8874680306905371\n",
      "Processing seed 3...\n"
     ]
    },
    {
     "name": "stderr",
     "output_type": "stream",
     "text": [
      "INFO:base:Downloading tokenizer for 'fine_tuned_model_euca4'\n",
      "INFO:base:Generating embedding vectors\n",
      "Map: 100%|██████████| 470/470 [00:01<00:00, 272.63 examples/s]\n",
      "INFO:base:Generating embedding vectors\n",
      "Map: 100%|██████████| 148/148 [00:00<00:00, 252.75 examples/s]\n"
     ]
    },
    {
     "name": "stdout",
     "output_type": "stream",
     "text": [
      "Method: baseline | Model: Logistic Regression | accuracy: 0.7162162162162162\n",
      "Method: baseline | Model: Logistic Regression | roc_auc: 0.8476835664335665\n",
      "Method: baseline | Model: Random Forest | accuracy: 0.8108108108108109\n",
      "Method: baseline | Model: Random Forest | roc_auc: 0.9165209790209791\n",
      "Method: baseline | Model: AdaBoost | accuracy: 0.831081081081081\n",
      "Method: baseline | Model: AdaBoost | roc_auc: 0.9010052447552447\n",
      "Method: baseline | Model: Gradient Boosting | accuracy: 0.777027027027027\n",
      "Method: baseline | Model: Gradient Boosting | roc_auc: 0.9138986013986015\n",
      "Method: baseline | Model: Support Vector Machine | accuracy: 0.7635135135135135\n",
      "Method: baseline | Model: Support Vector Machine | roc_auc: 0.8551136363636362\n",
      "Method: baseline | Model: XGBoost | accuracy: 0.8378378378378378\n",
      "Method: baseline | Model: XGBoost | roc_auc: 0.9241695804195804\n"
     ]
    },
    {
     "name": "stderr",
     "output_type": "stream",
     "text": [
      "/data/chenxi/anaconda3/envs/myenv/lib/python3.10/site-packages/sklearn/linear_model/_logistic.py:814: ConvergenceWarning: lbfgs failed to converge (status=1):\n",
      "STOP: TOTAL NO. of ITERATIONS REACHED LIMIT.\n",
      "\n",
      "Increase the number of iterations (max_iter) or scale the data as shown in:\n",
      "    https://scikit-learn.org/stable/modules/preprocessing.html\n",
      "Please also refer to the documentation for alternative solver options:\n",
      "    https://scikit-learn.org/stable/modules/linear_model.html#logistic-regression\n",
      "  n_iter_i = _check_optimize_result(\n"
     ]
    },
    {
     "name": "stdout",
     "output_type": "stream",
     "text": [
      "Method: SelectK | Model: Logistic Regression | accuracy: 0.8918918918918919\n",
      "Method: SelectK | Model: Logistic Regression | roc_auc: 0.955201048951049\n",
      "Method: SelectK | Model: Random Forest | accuracy: 0.8918918918918919\n",
      "Method: SelectK | Model: Random Forest | roc_auc: 0.9667832167832167\n",
      "Method: SelectK | Model: AdaBoost | accuracy: 0.8918918918918919\n",
      "Method: SelectK | Model: AdaBoost | roc_auc: 0.9648164335664335\n",
      "Method: SelectK | Model: Gradient Boosting | accuracy: 0.9324324324324325\n",
      "Method: SelectK | Model: Gradient Boosting | roc_auc: 0.9792395104895105\n",
      "Method: SelectK | Model: Support Vector Machine | accuracy: 0.7027027027027027\n",
      "Method: SelectK | Model: Support Vector Machine | roc_auc: 0.9261363636363636\n",
      "Method: SelectK | Model: XGBoost | accuracy: 0.918918918918919\n",
      "Method: SelectK | Model: XGBoost | roc_auc: 0.9801136363636365\n"
     ]
    },
    {
     "name": "stderr",
     "output_type": "stream",
     "text": [
      "/data/chenxi/anaconda3/envs/myenv/lib/python3.10/site-packages/sklearn/linear_model/_logistic.py:814: ConvergenceWarning: lbfgs failed to converge (status=1):\n",
      "STOP: TOTAL NO. of ITERATIONS REACHED LIMIT.\n",
      "\n",
      "Increase the number of iterations (max_iter) or scale the data as shown in:\n",
      "    https://scikit-learn.org/stable/modules/preprocessing.html\n",
      "Please also refer to the documentation for alternative solver options:\n",
      "    https://scikit-learn.org/stable/modules/linear_model.html#logistic-regression\n",
      "  n_iter_i = _check_optimize_result(\n",
      "/data/chenxi/anaconda3/envs/myenv/lib/python3.10/site-packages/sklearn/linear_model/_logistic.py:814: ConvergenceWarning: lbfgs failed to converge (status=1):\n",
      "STOP: TOTAL NO. of ITERATIONS REACHED LIMIT.\n",
      "\n",
      "Increase the number of iterations (max_iter) or scale the data as shown in:\n",
      "    https://scikit-learn.org/stable/modules/preprocessing.html\n",
      "Please also refer to the documentation for alternative solver options:\n",
      "    https://scikit-learn.org/stable/modules/linear_model.html#logistic-regression\n",
      "  n_iter_i = _check_optimize_result(\n",
      "/data/chenxi/anaconda3/envs/myenv/lib/python3.10/site-packages/sklearn/linear_model/_logistic.py:814: ConvergenceWarning: lbfgs failed to converge (status=1):\n",
      "STOP: TOTAL NO. of ITERATIONS REACHED LIMIT.\n",
      "\n",
      "Increase the number of iterations (max_iter) or scale the data as shown in:\n",
      "    https://scikit-learn.org/stable/modules/preprocessing.html\n",
      "Please also refer to the documentation for alternative solver options:\n",
      "    https://scikit-learn.org/stable/modules/linear_model.html#logistic-regression\n",
      "  n_iter_i = _check_optimize_result(\n",
      "/data/chenxi/anaconda3/envs/myenv/lib/python3.10/site-packages/sklearn/linear_model/_logistic.py:814: ConvergenceWarning: lbfgs failed to converge (status=1):\n",
      "STOP: TOTAL NO. of ITERATIONS REACHED LIMIT.\n",
      "\n",
      "Increase the number of iterations (max_iter) or scale the data as shown in:\n",
      "    https://scikit-learn.org/stable/modules/preprocessing.html\n",
      "Please also refer to the documentation for alternative solver options:\n",
      "    https://scikit-learn.org/stable/modules/linear_model.html#logistic-regression\n",
      "  n_iter_i = _check_optimize_result(\n",
      "/data/chenxi/anaconda3/envs/myenv/lib/python3.10/site-packages/sklearn/linear_model/_logistic.py:814: ConvergenceWarning: lbfgs failed to converge (status=1):\n",
      "STOP: TOTAL NO. of ITERATIONS REACHED LIMIT.\n",
      "\n",
      "Increase the number of iterations (max_iter) or scale the data as shown in:\n",
      "    https://scikit-learn.org/stable/modules/preprocessing.html\n",
      "Please also refer to the documentation for alternative solver options:\n",
      "    https://scikit-learn.org/stable/modules/linear_model.html#logistic-regression\n",
      "  n_iter_i = _check_optimize_result(\n",
      "/data/chenxi/anaconda3/envs/myenv/lib/python3.10/site-packages/sklearn/linear_model/_logistic.py:814: ConvergenceWarning: lbfgs failed to converge (status=1):\n",
      "STOP: TOTAL NO. of ITERATIONS REACHED LIMIT.\n",
      "\n",
      "Increase the number of iterations (max_iter) or scale the data as shown in:\n",
      "    https://scikit-learn.org/stable/modules/preprocessing.html\n",
      "Please also refer to the documentation for alternative solver options:\n",
      "    https://scikit-learn.org/stable/modules/linear_model.html#logistic-regression\n",
      "  n_iter_i = _check_optimize_result(\n"
     ]
    },
    {
     "name": "stdout",
     "output_type": "stream",
     "text": [
      "Method: PCA | Model: Logistic Regression | accuracy: 0.8851351351351351\n",
      "Method: PCA | Model: Logistic Regression | roc_auc: 0.9163024475524476\n",
      "Method: PCA | Model: Random Forest | accuracy: 0.8581081081081081\n",
      "Method: PCA | Model: Random Forest | roc_auc: 0.8703015734265734\n",
      "Method: PCA | Model: AdaBoost | accuracy: 0.831081081081081\n",
      "Method: PCA | Model: AdaBoost | roc_auc: 0.8540209790209791\n",
      "Method: PCA | Model: Gradient Boosting | accuracy: 0.8378378378378378\n",
      "Method: PCA | Model: Gradient Boosting | roc_auc: 0.8787150349650349\n",
      "Method: PCA | Model: Support Vector Machine | accuracy: 0.8716216216216216\n",
      "Method: PCA | Model: Support Vector Machine | roc_auc: 0.9005681818181818\n"
     ]
    },
    {
     "name": "stderr",
     "output_type": "stream",
     "text": [
      "INFO:base:Downloading pre-trained model 'fine_tuned_model_euca5'\n"
     ]
    },
    {
     "name": "stdout",
     "output_type": "stream",
     "text": [
      "Method: PCA | Model: XGBoost | accuracy: 0.8581081081081081\n",
      "Method: PCA | Model: XGBoost | roc_auc: 0.8649475524475524\n",
      "Processing seed 4...\n"
     ]
    },
    {
     "name": "stderr",
     "output_type": "stream",
     "text": [
      "INFO:base:Downloading tokenizer for 'fine_tuned_model_euca5'\n",
      "INFO:base:Generating embedding vectors\n",
      "Map: 100%|██████████| 470/470 [00:01<00:00, 267.10 examples/s]\n",
      "INFO:base:Generating embedding vectors\n",
      "Map: 100%|██████████| 148/148 [00:00<00:00, 263.33 examples/s]\n"
     ]
    },
    {
     "name": "stdout",
     "output_type": "stream",
     "text": [
      "Method: baseline | Model: Logistic Regression | accuracy: 0.75\n",
      "Method: baseline | Model: Logistic Regression | roc_auc: 0.8332225913621261\n",
      "Method: baseline | Model: Random Forest | accuracy: 0.7567567567567568\n",
      "Method: baseline | Model: Random Forest | roc_auc: 0.8766334440753045\n",
      "Method: baseline | Model: AdaBoost | accuracy: 0.7567567567567568\n",
      "Method: baseline | Model: AdaBoost | roc_auc: 0.8234772978959026\n",
      "Method: baseline | Model: Gradient Boosting | accuracy: 0.75\n",
      "Method: baseline | Model: Gradient Boosting | roc_auc: 0.8538205980066444\n",
      "Method: baseline | Model: Support Vector Machine | accuracy: 0.7567567567567568\n",
      "Method: baseline | Model: Support Vector Machine | roc_auc: 0.8540420819490586\n",
      "Method: baseline | Model: XGBoost | accuracy: 0.7635135135135135\n",
      "Method: baseline | Model: XGBoost | roc_auc: 0.8553709856035437\n"
     ]
    },
    {
     "name": "stderr",
     "output_type": "stream",
     "text": [
      "/data/chenxi/anaconda3/envs/myenv/lib/python3.10/site-packages/sklearn/linear_model/_logistic.py:814: ConvergenceWarning: lbfgs failed to converge (status=1):\n",
      "STOP: TOTAL NO. of ITERATIONS REACHED LIMIT.\n",
      "\n",
      "Increase the number of iterations (max_iter) or scale the data as shown in:\n",
      "    https://scikit-learn.org/stable/modules/preprocessing.html\n",
      "Please also refer to the documentation for alternative solver options:\n",
      "    https://scikit-learn.org/stable/modules/linear_model.html#logistic-regression\n",
      "  n_iter_i = _check_optimize_result(\n"
     ]
    },
    {
     "name": "stdout",
     "output_type": "stream",
     "text": [
      "Method: SelectK | Model: Logistic Regression | accuracy: 0.8986486486486487\n",
      "Method: SelectK | Model: Logistic Regression | roc_auc: 0.932890365448505\n",
      "Method: SelectK | Model: Random Forest | accuracy: 0.9054054054054054\n",
      "Method: SelectK | Model: Random Forest | roc_auc: 0.9620155038759689\n",
      "Method: SelectK | Model: AdaBoost | accuracy: 0.8851351351351351\n",
      "Method: SelectK | Model: AdaBoost | roc_auc: 0.8890365448504983\n",
      "Method: SelectK | Model: Gradient Boosting | accuracy: 0.8986486486486487\n",
      "Method: SelectK | Model: Gradient Boosting | roc_auc: 0.9497231450719823\n",
      "Method: SelectK | Model: Support Vector Machine | accuracy: 0.7094594594594594\n",
      "Method: SelectK | Model: Support Vector Machine | roc_auc: 0.9244739756367663\n",
      "Method: SelectK | Model: XGBoost | accuracy: 0.9121621621621622\n",
      "Method: SelectK | Model: XGBoost | roc_auc: 0.9503875968992248\n"
     ]
    },
    {
     "name": "stderr",
     "output_type": "stream",
     "text": [
      "/data/chenxi/anaconda3/envs/myenv/lib/python3.10/site-packages/sklearn/linear_model/_logistic.py:814: ConvergenceWarning: lbfgs failed to converge (status=1):\n",
      "STOP: TOTAL NO. of ITERATIONS REACHED LIMIT.\n",
      "\n",
      "Increase the number of iterations (max_iter) or scale the data as shown in:\n",
      "    https://scikit-learn.org/stable/modules/preprocessing.html\n",
      "Please also refer to the documentation for alternative solver options:\n",
      "    https://scikit-learn.org/stable/modules/linear_model.html#logistic-regression\n",
      "  n_iter_i = _check_optimize_result(\n",
      "/data/chenxi/anaconda3/envs/myenv/lib/python3.10/site-packages/sklearn/linear_model/_logistic.py:814: ConvergenceWarning: lbfgs failed to converge (status=1):\n",
      "STOP: TOTAL NO. of ITERATIONS REACHED LIMIT.\n",
      "\n",
      "Increase the number of iterations (max_iter) or scale the data as shown in:\n",
      "    https://scikit-learn.org/stable/modules/preprocessing.html\n",
      "Please also refer to the documentation for alternative solver options:\n",
      "    https://scikit-learn.org/stable/modules/linear_model.html#logistic-regression\n",
      "  n_iter_i = _check_optimize_result(\n"
     ]
    },
    {
     "name": "stdout",
     "output_type": "stream",
     "text": [
      "Method: PCA | Model: Logistic Regression | accuracy: 0.8716216216216216\n",
      "Method: PCA | Model: Logistic Regression | roc_auc: 0.8978959025470653\n",
      "Method: PCA | Model: Random Forest | accuracy: 0.8581081081081081\n",
      "Method: PCA | Model: Random Forest | roc_auc: 0.8504983388704319\n",
      "Method: PCA | Model: AdaBoost | accuracy: 0.8716216216216216\n",
      "Method: PCA | Model: AdaBoost | roc_auc: 0.8677740863787374\n",
      "Method: PCA | Model: Gradient Boosting | accuracy: 0.8716216216216216\n",
      "Method: PCA | Model: Gradient Boosting | roc_auc: 0.8932447397563676\n",
      "Method: PCA | Model: Support Vector Machine | accuracy: 0.8851351351351351\n",
      "Method: PCA | Model: Support Vector Machine | roc_auc: 0.901218161683278\n",
      "Method: PCA | Model: XGBoost | accuracy: 0.8581081081081081\n",
      "Method: PCA | Model: XGBoost | roc_auc: 0.8954595791805094\n"
     ]
    },
    {
     "data": {
      "image/png": "[encoded data removed]",
      "text/plain": [
       "<Figure size 1500x1000 with 1 Axes>"
      ]
     },
     "metadata": {},
     "output_type": "display_data"
    },
    {
     "data": {
      "image/png": "[encoded data removed]",
      "text/plain": [
       "<Figure size 1500x1000 with 1 Axes>"
      ]
     },
     "metadata": {},
     "output_type": "display_data"
    }
   ],
   "source": [
    "import openai\n",
    "import time\n",
    "import pandas as pd\n",
    "import numpy as np\n",
    "from sklearn.preprocessing import StandardScaler\n",
    "from sklearn.decomposition import PCA\n",
    "from sklearn.model_selection import KFold, cross_val_score\n",
    "from sklearn.feature_selection import SelectKBest, mutual_info_classif\n",
    "from sklearn.linear_model import LogisticRegression\n",
    "import matplotlib.patches as mpatches\n",
    "import matplotlib.pyplot as plt\n",
    "import re\n",
    "from sklearn.metrics import accuracy_score, roc_auc_score\n",
    "# Define the openai API key (Make sure to keep it confidential!)\n",
    "import json\n",
    "import datetime\n",
    "\n",
    "\n",
    "\n",
    "# Utility functions\n",
    "def get_matching_cols(df, regex):\n",
    "    r = re.compile(regex)\n",
    "    return list(filter(r.match, df.columns))\n",
    "\n",
    "def get_embedding_cols(df):\n",
    "    return get_matching_cols(df, \"(vec_\\d+)\")\n",
    "\n",
    "def explode(col, prefix):\n",
    "    n_cols = len(col[0])\n",
    "    col_names = [prefix + str(i) for i in range(n_cols)]\n",
    "    return pd.DataFrame(col.to_list(), columns=col_names)\n",
    "\n",
    "def method_baseline(df, scaler=None):\n",
    "    X = df.drop('binaryClass', axis=1)\n",
    "    y = df['binaryClass']\n",
    "    X_cat = X[['Abbrev', 'Rep', 'Locality', 'Map_Ref', 'Latitude', 'Altitude',\n",
    "       'Rainfall', 'Frosts', 'Year', 'Sp', 'PMCno', 'DBH', 'Ht', 'Surv', 'Vig',\n",
    "       'Ins_res', 'Stem_Fm', 'Crown_Fm', 'Brnch_Fm']]\n",
    "    \n",
    "    if scaler is None:\n",
    "        scaler = StandardScaler()\n",
    "        X_final = scaler.fit_transform(X_cat)\n",
    "    else:\n",
    "        X_final = scaler.transform(X_cat)\n",
    "    \n",
    "    return X_final, y, scaler\n",
    "\n",
    "def method_SelectK(df, scaler=None, selector=None):\n",
    "    def explode(col, prefix):\n",
    "        n_cols = len(col[0])\n",
    "        col_names = [prefix + str(i) for i in range(n_cols)]\n",
    "        return pd.DataFrame(col.to_list(), columns=col_names)\n",
    "\n",
    "    # Explode text_vector\n",
    "    exploded = explode(df['text_vector'], 'vec_')\n",
    "    df.loc[:, exploded.columns] = exploded\n",
    "\n",
    "    X = df.drop('binaryClass', axis=1)\n",
    "    y = df['binaryClass']\n",
    "\n",
    "    # Extract features\n",
    "    X_cat = X[['Abbrev', 'Rep', 'Locality', 'Map_Ref', 'Latitude', 'Altitude',\n",
    "       'Rainfall', 'Frosts', 'Year', 'Sp', 'PMCno', 'DBH', 'Ht', 'Surv', 'Vig',\n",
    "       'Ins_res', 'Stem_Fm', 'Crown_Fm', 'Brnch_Fm']]\n",
    "    embed_cols = get_embedding_cols(X)\n",
    "    X_text = X[embed_cols]\n",
    "    X_comb = pd.concat([X_cat, X_text], axis=1)\n",
    "\n",
    "    # Scale the data\n",
    "    if scaler is None:\n",
    "        scaler = StandardScaler()\n",
    "        X_scaled = scaler.fit_transform(X_comb)\n",
    "    else:\n",
    "        X_scaled = scaler.transform(X_comb)\n",
    "\n",
    "    # Feature selection\n",
    "    if selector is None:\n",
    "        selector = SelectKBest(mutual_info_classif, k=20)\n",
    "        X_selected = selector.fit_transform(X_scaled, y)\n",
    "    else:\n",
    "        X_selected = selector.transform(X_scaled)\n",
    "\n",
    "    X_final = pd.concat([X_cat, pd.DataFrame(X_selected)], axis=1)\n",
    "    X_final.columns = X_final.columns.astype(str)\n",
    "\n",
    "    return X_final, y, scaler, selector\n",
    "\n",
    "def fit_PCA(train_df):\n",
    "    # Exploding the embeddings into separate columns\n",
    "    exploded = explode(train_df['text_vector'], 'vec_')\n",
    "    train_df.loc[:, exploded.columns] = exploded\n",
    "    \n",
    "    # Splitting X and y\n",
    "    X = train_df.drop('binaryClass', axis=1)\n",
    "    y = train_df['binaryClass']\n",
    "\n",
    "    # Separate original categorical features\n",
    "    X_cat = X[['Abbrev', 'Rep', 'Locality', 'Map_Ref', 'Latitude', 'Altitude',\n",
    "       'Rainfall', 'Frosts', 'Year', 'Sp', 'PMCno', 'DBH', 'Ht', 'Surv', 'Vig',\n",
    "       'Ins_res', 'Stem_Fm', 'Crown_Fm', 'Brnch_Fm']]\n",
    "    # Extract the text embeddings\n",
    "    embed_cols = get_embedding_cols(X)\n",
    "    X_text = X[embed_cols]\n",
    "\n",
    "    # Combine the embeddings and the original set\n",
    "    X_comb = pd.concat([X_cat, X_text], axis=1)\n",
    "    scaler = StandardScaler()\n",
    "    X_scaled = scaler.fit_transform(X_comb)\n",
    "    \n",
    "# Applying PCA on the combined data\n",
    "    best_n_components = None\n",
    "    best_score = float('-inf')\n",
    "    for n_components in range(1, 50):  # Checking all possible number of components\n",
    "        pca = PCA(n_components=n_components)\n",
    "        X_pca = pca.fit_transform(X_scaled)\n",
    "\n",
    "        # Train a model (e.g., logistic regression) on the PCA components and compute the performance\n",
    "        model2 = LogisticRegression()\n",
    "        score = cross_val_score(model2, X_pca, y, cv=5, scoring='roc_auc').mean()\n",
    "\n",
    "        if score > best_score:\n",
    "            best_score = score\n",
    "            best_n_components = n_components\n",
    "    \n",
    "    pca = PCA(n_components=best_n_components)\n",
    "    pca.fit(X_scaled)\n",
    "    return pca, best_n_components, scaler\n",
    "\n",
    "def transform_with_PCA(pca,scaler, df):\n",
    " # Exploding the embeddings into separate columns\n",
    "    exploded = explode(df['text_vector'], 'vec_')\n",
    "    df.loc[:, exploded.columns] = exploded\n",
    "    \n",
    "    # Splitting X and y\n",
    "    X = df.drop('binaryClass', axis=1)\n",
    "    y = df['binaryClass']\n",
    "\n",
    "    # Separate original categorical features\n",
    "    X_cat = X[['Abbrev', 'Rep', 'Locality', 'Map_Ref', 'Latitude', 'Altitude',\n",
    "       'Rainfall', 'Frosts', 'Year', 'Sp', 'PMCno', 'DBH', 'Ht', 'Surv', 'Vig',\n",
    "       'Ins_res', 'Stem_Fm', 'Crown_Fm', 'Brnch_Fm']]\n",
    "    \n",
    "    # Extract the text embeddings\n",
    "    embed_cols = get_embedding_cols(X)\n",
    "    X_text = X[embed_cols]\n",
    "\n",
    "    # Combine the embeddings and the original set\n",
    "    X_comb = pd.concat([X_cat, X_text], axis=1)\n",
    "    X_scaled = scaler.transform(X_comb)  # Only transform using the previously fitted scaler\n",
    "    \n",
    "    X_pca = pca.transform(X_scaled)\n",
    "    X_final = pd.DataFrame(X_pca)\n",
    "    X_final.columns = [f'PC{i+1}' for i in range(X_final.shape[1])]\n",
    "    \n",
    "    return X_final, df['binaryClass']\n",
    "\n",
    "\n",
    "\n",
    "def evaluate_models(train_df, test_df, models, methods):\n",
    "    method_results = {}\n",
    "    \n",
    "    for method in methods:\n",
    "        method_results[method] = {}\n",
    "\n",
    "        if method == 'baseline':\n",
    "            X_train, y_train, scaler = method_baseline(train_df)\n",
    "            X_test, y_test, _ = method_baseline(test_df, scaler)\n",
    "        elif method == 'PCA':\n",
    "            pca, best_n_components, scaler = fit_PCA(train_df)\n",
    "            X_train, y_train = transform_with_PCA(pca, scaler, train_df)\n",
    "            X_test, y_test = transform_with_PCA(pca, scaler, test_df)\n",
    "        elif method == 'SelectK':\n",
    "            X_train, y_train, train_scaler, train_selector = method_SelectK(train_data)\n",
    "            X_test, y_test, _, _ = method_SelectK(test_data, train_scaler, train_selector)\n",
    "\n",
    "        for model_name, model in models.items():\n",
    "            model.fit(X_train, y_train)\n",
    "            y_pred = model.predict(X_test)\n",
    "\n",
    "            for metric in metrics_list:\n",
    "                if metric == 'accuracy':\n",
    "                    score = accuracy_score(y_test, y_pred)\n",
    "                elif metric == 'roc_auc':\n",
    "                    y_prob = model.predict_proba(X_test)[:, 1]  # assuming binary classification\n",
    "                    score = roc_auc_score(y_test, y_prob)\n",
    "\n",
    "                if metric not in method_results[method]:\n",
    "                    method_results[method][metric] = {}\n",
    "                if model_name not in method_results[method][metric]:\n",
    "                    method_results[method][metric][model_name] = []\n",
    "\n",
    "                method_results[method][metric][model_name].append(score)\n",
    "\n",
    "                print(f'Method: {method} | Model: {model_name} | {metric}: {score}')\n",
    "\n",
    "    return method_results\n",
    "\n",
    "models = {\n",
    "    'Logistic Regression': LogisticRegression(),\n",
    "    'Random Forest': RandomForestClassifier(),\n",
    "    'AdaBoost': AdaBoostClassifier(),\n",
    "    'Gradient Boosting': GradientBoostingClassifier(),\n",
    "    'Support Vector Machine': SVC(probability=True), \n",
    "    'XGBoost': XGBClassifier(use_label_encoder=False, eval_metric='logloss'),\n",
    "}\n",
    "methods = ['baseline', 'SelectK', 'PCA']\n",
    "colors = ['yellow', 'red', 'blue', 'red', 'cyan', 'magenta', 'yellow']  # Added more colors for potential expansion\n",
    "metrics_list = ['accuracy', 'roc_auc']\n",
    "# evaluate_models(train_data, test_data, models, methods)\n",
    "seeds = [0, 1, 2, 3, 4]\n",
    "\n",
    "# Store results for each seed\n",
    "all_results = {}\n",
    "\n",
    "for seed in seeds:\n",
    "    print(f\"Processing seed {seed}...\")\n",
    "    \n",
    "    # Adjust the paths to load the data based on the current seed\n",
    "    train_data = pd.read_csv(f'/data/chenxi/llm-feature-engeneering/src/Fine_tune/euca/data_seed_{seed}/train.csv')\n",
    "    test_data = pd.read_csv(f'/data/chenxi/llm-feature-engeneering/src/Fine_tune/euca/data_seed_{seed}/test.csv')\n",
    "    \n",
    "    # Adjust the model name based on the current seed (model number is seed + 1)\n",
    "    generator = EmbeddingGeneratorForNLPSequenceClassification.from_use_case(\n",
    "        use_case=\"NLP.SequenceClassification\",\n",
    "        model_name=f\"fine_tuned_model_euca{seed + 1}\",\n",
    "        tokenizer_max_length=512\n",
    "    )\n",
    "    \n",
    "    train_data['text_vector'] = generator.generate_embeddings(text_col=train_data['response'])\n",
    "    test_data['text_vector'] = generator.generate_embeddings(text_col=test_data['response'])\n",
    "    \n",
    "    # Evaluate the models and store the results\n",
    "    seed_results = evaluate_models(train_data, test_data, models, methods)\n",
    "    all_results[seed] = seed_results\n",
    "output_json = {}\n",
    "\n",
    "for method in methods:\n",
    "    output_json[method] = {}\n",
    "    for model_name in models.keys():\n",
    "        scores = [all_results[seed][method]['roc_auc'][model_name][0] for seed in seeds]\n",
    "        \n",
    "        # Calculate median, mean, and standard deviation\n",
    "        median_score = np.median(scores)\n",
    "        mean_score = np.mean(scores)\n",
    "        std_score = np.std(scores)\n",
    "        \n",
    "        # Create performance strings for both mean and median\n",
    "        mean_performance_str = f\"{mean_score:.4f} ± {std_score:.2f}\"\n",
    "        median_performance_str = f\"{median_score:.4f} ± {std_score:.2f}\"\n",
    "        \n",
    "        output_json[method][model_name] = {\n",
    "            \"mean_performance\": mean_performance_str,\n",
    "            \"median_performance\": median_performance_str,\n",
    "            \"mean\": mean_score,\n",
    "            \"median\": median_score,\n",
    "            \"std\": std_score\n",
    "        }\n",
    "\n",
    "# Save the JSON structure to a file\n",
    "current_time = datetime.datetime.now().strftime('%Y-%m-%d_%H-%M-%S')\n",
    "file_path = f\"/data/chenxi/llm-feature-engeneering/src/Fine_tune/euca/runs/{current_time}.json\"\n",
    "with open(file_path, 'w') as file:\n",
    "    json.dump(output_json, file, indent=4)\n",
    "\n",
    "# Now, plot the combined results\n",
    "for metric in metrics_list:\n",
    "    plt.figure(figsize=(15, 10))\n",
    "    \n",
    "    x_ticks_positions = np.arange(len(models))\n",
    "    for i, method in enumerate(methods):\n",
    "        scores_for_all_models = []\n",
    "        for j, model_name in enumerate(models.keys()):\n",
    "            scores = [all_results[seed][method][metric][model_name][0] for seed in seeds]\n",
    "            scores_for_all_models.append(scores)\n",
    "        \n",
    "        # Plot boxplots for all models for the current method\n",
    "        bp = plt.boxplot(scores_for_all_models, positions=x_ticks_positions + i * 0.2, widths=0.15,\n",
    "                         patch_artist=True, boxprops=dict(facecolor=colors[i], alpha=0.6))\n",
    "        for element in ['boxes', 'whiskers', 'fliers', 'means', 'medians', 'caps']:\n",
    "            plt.setp(bp[element], color=colors[i])\n",
    "        plt.setp(bp[\"boxes\"], facecolor=colors[i])\n",
    "        plt.setp(bp[\"fliers\"], markeredgecolor=colors[i])\n",
    "    \n",
    "    plt.xticks(ticks=x_ticks_positions, labels=models.keys(), rotation=45)\n",
    "    plt.legend(handles=[mpatches.Patch(color=colors[i], label=method) for i, method in enumerate(methods)], loc='upper right')\n",
    "    plt.title(f\"Model performance ({metric}) across seeds\")\n",
    "    plt.ylabel(metric)\n",
    "    plt.tight_layout()\n",
    "    \n",
    "    # Save the figure\n",
    "    plt.savefig(f\"/data/chenxi/llm-feature-engeneering/src/Fine_tune/euca/runs/{metric}_{current_time}.png\")\n",
    "    plt.show()\n"
   ]
  }
 ],
 "metadata": {
  "kernelspec": {
   "display_name": "myenv",
   "language": "python",
   "name": "python3"
  },
  "language_info": {
   "codemirror_mode": {
    "name": "ipython",
    "version": 3
   },
   "file_extension": ".py",
   "mimetype": "text/x-python",
   "name": "python",
   "nbconvert_exporter": "python",
   "pygments_lexer": "ipython3",
   "version": "3.10.12"
  },
  "orig_nbformat": 4
 },
 "nbformat": 4,
 "nbformat_minor": 2
}
